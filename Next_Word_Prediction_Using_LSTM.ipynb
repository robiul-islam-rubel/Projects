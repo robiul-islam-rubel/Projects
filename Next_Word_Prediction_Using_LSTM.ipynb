{
  "nbformat": 4,
  "nbformat_minor": 0,
  "metadata": {
    "colab": {
      "name": "Next_Word_Prediction_Using_LSTM",
      "provenance": [],
      "authorship_tag": "ABX9TyPkmRPhDStgSH54xov9PF3Q",
      "include_colab_link": true
    },
    "kernelspec": {
      "name": "python3",
      "display_name": "Python 3"
    },
    "language_info": {
      "name": "python"
    },
    "accelerator": "GPU",
    "gpuClass": "standard"
  },
  "cells": [
    {
      "cell_type": "markdown",
      "metadata": {
        "id": "view-in-github",
        "colab_type": "text"
      },
      "source": [
        "<a href=\"https://colab.research.google.com/github/rubel-47/Projects/blob/main/Next_Word_Prediction_Using_LSTM.ipynb\" target=\"_parent\"><img src=\"https://colab.research.google.com/assets/colab-badge.svg\" alt=\"Open In Colab\"/></a>"
      ]
    },
    {
      "cell_type": "code",
      "execution_count": null,
      "metadata": {
        "id": "WZUNyNFuHVii",
        "colab": {
          "base_uri": "https://localhost:8080/"
        },
        "outputId": "d019d974-3edf-45cf-a8d9-425d2f37bbff"
      },
      "outputs": [
        {
          "output_type": "stream",
          "name": "stdout",
          "text": [
            "Looking in indexes: https://pypi.org/simple, https://us-python.pkg.dev/colab-wheels/public/simple/\n",
            "Collecting bnltk\n",
            "  Downloading bnltk-0.7.6-py3-none-any.whl (11 kB)\n",
            "Requirement already satisfied: numpy in /usr/local/lib/python3.7/dist-packages (from bnltk) (1.21.6)\n",
            "Requirement already satisfied: tensorflow in /usr/local/lib/python3.7/dist-packages (from bnltk) (2.8.2+zzzcolab20220719082949)\n",
            "Requirement already satisfied: requests in /usr/local/lib/python3.7/dist-packages (from bnltk) (2.23.0)\n",
            "Requirement already satisfied: sklearn in /usr/local/lib/python3.7/dist-packages (from bnltk) (0.0)\n",
            "Requirement already satisfied: keras in /usr/local/lib/python3.7/dist-packages (from bnltk) (2.8.0)\n",
            "Requirement already satisfied: idna<3,>=2.5 in /usr/local/lib/python3.7/dist-packages (from requests->bnltk) (2.10)\n",
            "Requirement already satisfied: urllib3!=1.25.0,!=1.25.1,<1.26,>=1.21.1 in /usr/local/lib/python3.7/dist-packages (from requests->bnltk) (1.24.3)\n",
            "Requirement already satisfied: certifi>=2017.4.17 in /usr/local/lib/python3.7/dist-packages (from requests->bnltk) (2022.6.15)\n",
            "Requirement already satisfied: chardet<4,>=3.0.2 in /usr/local/lib/python3.7/dist-packages (from requests->bnltk) (3.0.4)\n",
            "Requirement already satisfied: scikit-learn in /usr/local/lib/python3.7/dist-packages (from sklearn->bnltk) (1.0.2)\n",
            "Requirement already satisfied: joblib>=0.11 in /usr/local/lib/python3.7/dist-packages (from scikit-learn->sklearn->bnltk) (1.1.0)\n",
            "Requirement already satisfied: threadpoolctl>=2.0.0 in /usr/local/lib/python3.7/dist-packages (from scikit-learn->sklearn->bnltk) (3.1.0)\n",
            "Requirement already satisfied: scipy>=1.1.0 in /usr/local/lib/python3.7/dist-packages (from scikit-learn->sklearn->bnltk) (1.7.3)\n",
            "Requirement already satisfied: typing-extensions>=3.6.6 in /usr/local/lib/python3.7/dist-packages (from tensorflow->bnltk) (4.1.1)\n",
            "Requirement already satisfied: h5py>=2.9.0 in /usr/local/lib/python3.7/dist-packages (from tensorflow->bnltk) (3.1.0)\n",
            "Requirement already satisfied: grpcio<2.0,>=1.24.3 in /usr/local/lib/python3.7/dist-packages (from tensorflow->bnltk) (1.47.0)\n",
            "Requirement already satisfied: astunparse>=1.6.0 in /usr/local/lib/python3.7/dist-packages (from tensorflow->bnltk) (1.6.3)\n",
            "Requirement already satisfied: termcolor>=1.1.0 in /usr/local/lib/python3.7/dist-packages (from tensorflow->bnltk) (1.1.0)\n",
            "Requirement already satisfied: keras-preprocessing>=1.1.1 in /usr/local/lib/python3.7/dist-packages (from tensorflow->bnltk) (1.1.2)\n",
            "Requirement already satisfied: tensorboard<2.9,>=2.8 in /usr/local/lib/python3.7/dist-packages (from tensorflow->bnltk) (2.8.0)\n",
            "Requirement already satisfied: tensorflow-estimator<2.9,>=2.8 in /usr/local/lib/python3.7/dist-packages (from tensorflow->bnltk) (2.8.0)\n",
            "Requirement already satisfied: gast>=0.2.1 in /usr/local/lib/python3.7/dist-packages (from tensorflow->bnltk) (0.5.3)\n",
            "Requirement already satisfied: setuptools in /usr/local/lib/python3.7/dist-packages (from tensorflow->bnltk) (57.4.0)\n",
            "Requirement already satisfied: protobuf<3.20,>=3.9.2 in /usr/local/lib/python3.7/dist-packages (from tensorflow->bnltk) (3.17.3)\n",
            "Requirement already satisfied: wrapt>=1.11.0 in /usr/local/lib/python3.7/dist-packages (from tensorflow->bnltk) (1.14.1)\n",
            "Requirement already satisfied: libclang>=9.0.1 in /usr/local/lib/python3.7/dist-packages (from tensorflow->bnltk) (14.0.1)\n",
            "Requirement already satisfied: absl-py>=0.4.0 in /usr/local/lib/python3.7/dist-packages (from tensorflow->bnltk) (1.2.0)\n",
            "Requirement already satisfied: flatbuffers>=1.12 in /usr/local/lib/python3.7/dist-packages (from tensorflow->bnltk) (2.0)\n",
            "Requirement already satisfied: google-pasta>=0.1.1 in /usr/local/lib/python3.7/dist-packages (from tensorflow->bnltk) (0.2.0)\n",
            "Requirement already satisfied: six>=1.12.0 in /usr/local/lib/python3.7/dist-packages (from tensorflow->bnltk) (1.15.0)\n",
            "Requirement already satisfied: tensorflow-io-gcs-filesystem>=0.23.1 in /usr/local/lib/python3.7/dist-packages (from tensorflow->bnltk) (0.26.0)\n",
            "Requirement already satisfied: opt-einsum>=2.3.2 in /usr/local/lib/python3.7/dist-packages (from tensorflow->bnltk) (3.3.0)\n",
            "Requirement already satisfied: wheel<1.0,>=0.23.0 in /usr/local/lib/python3.7/dist-packages (from astunparse>=1.6.0->tensorflow->bnltk) (0.37.1)\n",
            "Requirement already satisfied: cached-property in /usr/local/lib/python3.7/dist-packages (from h5py>=2.9.0->tensorflow->bnltk) (1.5.2)\n",
            "Requirement already satisfied: google-auth<3,>=1.6.3 in /usr/local/lib/python3.7/dist-packages (from tensorboard<2.9,>=2.8->tensorflow->bnltk) (1.35.0)\n",
            "Requirement already satisfied: google-auth-oauthlib<0.5,>=0.4.1 in /usr/local/lib/python3.7/dist-packages (from tensorboard<2.9,>=2.8->tensorflow->bnltk) (0.4.6)\n",
            "Requirement already satisfied: markdown>=2.6.8 in /usr/local/lib/python3.7/dist-packages (from tensorboard<2.9,>=2.8->tensorflow->bnltk) (3.4.1)\n",
            "Requirement already satisfied: tensorboard-plugin-wit>=1.6.0 in /usr/local/lib/python3.7/dist-packages (from tensorboard<2.9,>=2.8->tensorflow->bnltk) (1.8.1)\n",
            "Requirement already satisfied: tensorboard-data-server<0.7.0,>=0.6.0 in /usr/local/lib/python3.7/dist-packages (from tensorboard<2.9,>=2.8->tensorflow->bnltk) (0.6.1)\n",
            "Requirement already satisfied: werkzeug>=0.11.15 in /usr/local/lib/python3.7/dist-packages (from tensorboard<2.9,>=2.8->tensorflow->bnltk) (1.0.1)\n",
            "Requirement already satisfied: pyasn1-modules>=0.2.1 in /usr/local/lib/python3.7/dist-packages (from google-auth<3,>=1.6.3->tensorboard<2.9,>=2.8->tensorflow->bnltk) (0.2.8)\n",
            "Requirement already satisfied: cachetools<5.0,>=2.0.0 in /usr/local/lib/python3.7/dist-packages (from google-auth<3,>=1.6.3->tensorboard<2.9,>=2.8->tensorflow->bnltk) (4.2.4)\n",
            "Requirement already satisfied: rsa<5,>=3.1.4 in /usr/local/lib/python3.7/dist-packages (from google-auth<3,>=1.6.3->tensorboard<2.9,>=2.8->tensorflow->bnltk) (4.9)\n",
            "Requirement already satisfied: requests-oauthlib>=0.7.0 in /usr/local/lib/python3.7/dist-packages (from google-auth-oauthlib<0.5,>=0.4.1->tensorboard<2.9,>=2.8->tensorflow->bnltk) (1.3.1)\n",
            "Requirement already satisfied: importlib-metadata>=4.4 in /usr/local/lib/python3.7/dist-packages (from markdown>=2.6.8->tensorboard<2.9,>=2.8->tensorflow->bnltk) (4.12.0)\n",
            "Requirement already satisfied: zipp>=0.5 in /usr/local/lib/python3.7/dist-packages (from importlib-metadata>=4.4->markdown>=2.6.8->tensorboard<2.9,>=2.8->tensorflow->bnltk) (3.8.1)\n",
            "Requirement already satisfied: pyasn1<0.5.0,>=0.4.6 in /usr/local/lib/python3.7/dist-packages (from pyasn1-modules>=0.2.1->google-auth<3,>=1.6.3->tensorboard<2.9,>=2.8->tensorflow->bnltk) (0.4.8)\n",
            "Requirement already satisfied: oauthlib>=3.0.0 in /usr/local/lib/python3.7/dist-packages (from requests-oauthlib>=0.7.0->google-auth-oauthlib<0.5,>=0.4.1->tensorboard<2.9,>=2.8->tensorflow->bnltk) (3.2.0)\n",
            "Installing collected packages: bnltk\n",
            "Successfully installed bnltk-0.7.6\n"
          ]
        }
      ],
      "source": [
        "pip install bnltk"
      ]
    },
    {
      "cell_type": "code",
      "source": [
        "from bnltk.tokenize import Tokenizers\n",
        "t = Tokenizers()\n",
        "print(t.bn_word_tokenizer(' শাহ আমানত বিমানবন্দরে অবস্থান'))\t"
      ],
      "metadata": {
        "colab": {
          "base_uri": "https://localhost:8080/"
        },
        "id": "OAsWVxrxiG7c",
        "outputId": "fe1aed1e-f3f7-4b90-d489-f735638f757f"
      },
      "execution_count": null,
      "outputs": [
        {
          "output_type": "stream",
          "name": "stdout",
          "text": [
            "['শাহ', 'আমানত', 'বিমানবন্দরে', 'অবস্থান']\n"
          ]
        }
      ]
    },
    {
      "cell_type": "code",
      "source": [
        "from bnltk.stemmer import BanglaStemmer\n",
        "bn_stemmer = BanglaStemmer()\n",
        "print(bn_stemmer.stem('বিমানবন্দরে'))"
      ],
      "metadata": {
        "colab": {
          "base_uri": "https://localhost:8080/"
        },
        "id": "5dzBkskIkQu_",
        "outputId": "e6b3de2f-06f5-4cb7-b26b-6271da6b7941"
      },
      "execution_count": null,
      "outputs": [
        {
          "output_type": "stream",
          "name": "stdout",
          "text": [
            "বিমানবন্দর\n"
          ]
        }
      ]
    },
    {
      "cell_type": "code",
      "source": [
        " from bnltk.bnltk_downloads import DataFiles\n",
        "DataFiles().download()\t"
      ],
      "metadata": {
        "colab": {
          "base_uri": "https://localhost:8080/"
        },
        "id": "6rMgquHSk5Xi",
        "outputId": "7564fa77-1fc2-4e61-9267-61a0a05e4696"
      },
      "execution_count": null,
      "outputs": [
        {
          "output_type": "stream",
          "name": "stdout",
          "text": [
            "Downloading....../bn_tagged_mod.txt\n",
            "[==================================================]\n",
            "Downloading....../keras_mlp_bangla.h5\n",
            "[==================================================]Done!\n"
          ]
        }
      ]
    },
    {
      "cell_type": "code",
      "source": [
        "from bnltk.pos_tagger import PosTagger\n",
        "\n",
        "p_tagger = PosTagger()    \n",
        "p_tagger.loader()\n",
        "sentences = 'দুশ্চিন্তার কোন কারণই নাই'\n",
        "print(p_tagger.tagger(sentences)) "
      ],
      "metadata": {
        "colab": {
          "base_uri": "https://localhost:8080/"
        },
        "id": "uBxCOjgKkabU",
        "outputId": "41b40c7e-b5b3-450c-b9fd-ffb5d1f93c8b"
      },
      "execution_count": null,
      "outputs": [
        {
          "output_type": "stream",
          "name": "stdout",
          "text": [
            "[('দুশ্চিন্তার', 'NC'), ('কোন', 'JQ'), ('কারণই', 'NC'), ('নাই', 'CX')]\n"
          ]
        }
      ]
    },
    {
      "cell_type": "code",
      "source": [
        "import nltk\n",
        "nltk.download('punkt')"
      ],
      "metadata": {
        "colab": {
          "base_uri": "https://localhost:8080/"
        },
        "id": "HV7VnCliRzWf",
        "outputId": "da435e9e-03a5-449e-e739-c12e5b2cdd98"
      },
      "execution_count": null,
      "outputs": [
        {
          "output_type": "stream",
          "name": "stderr",
          "text": [
            "[nltk_data] Downloading package punkt to /root/nltk_data...\n",
            "[nltk_data]   Unzipping tokenizers/punkt.zip.\n"
          ]
        },
        {
          "output_type": "execute_result",
          "data": {
            "text/plain": [
              "True"
            ]
          },
          "metadata": {},
          "execution_count": 8
        }
      ]
    },
    {
      "cell_type": "markdown",
      "source": [
        "NLTK EXercise"
      ],
      "metadata": {
        "id": "Z5_wa6qvQz1V"
      }
    },
    {
      "cell_type": "code",
      "source": [
        "sentence=\"\"\"এবার অবশ্য ততটা সহজ ছিল না\"\"\""
      ],
      "metadata": {
        "id": "4kgnHNHEQ3cQ"
      },
      "execution_count": null,
      "outputs": []
    },
    {
      "cell_type": "code",
      "source": [
        "tokens=nltk.word_tokenize(sentence)"
      ],
      "metadata": {
        "id": "H0FcTFo1RJEt"
      },
      "execution_count": null,
      "outputs": []
    },
    {
      "cell_type": "code",
      "source": [
        "tokens"
      ],
      "metadata": {
        "colab": {
          "base_uri": "https://localhost:8080/"
        },
        "id": "Fr0JbAfJRm-M",
        "outputId": "fb00bf23-a863-47e4-b82e-18e963325c97"
      },
      "execution_count": null,
      "outputs": [
        {
          "output_type": "execute_result",
          "data": {
            "text/plain": [
              "['এবার', 'অবশ্য', 'ততটা', 'সহজ', 'ছিল', 'না']"
            ]
          },
          "metadata": {},
          "execution_count": 19
        }
      ]
    },
    {
      "cell_type": "code",
      "source": [
        "len(tokens)"
      ],
      "metadata": {
        "colab": {
          "base_uri": "https://localhost:8080/"
        },
        "id": "vjWR9fCyV2JB",
        "outputId": "68d65758-b17d-4950-8a92-77f4ee694d39"
      },
      "execution_count": null,
      "outputs": [
        {
          "output_type": "execute_result",
          "data": {
            "text/plain": [
              "6"
            ]
          },
          "metadata": {},
          "execution_count": 20
        }
      ]
    },
    {
      "cell_type": "code",
      "source": [
        "from nltk.probability import FreqDist\n",
        "fdist=FreqDist()"
      ],
      "metadata": {
        "id": "nZQtgTP3WEtj"
      },
      "execution_count": null,
      "outputs": []
    },
    {
      "cell_type": "code",
      "source": [
        "for word in tokens:\n",
        "  fdist[word.lower()]+=1\n",
        "fdist"
      ],
      "metadata": {
        "colab": {
          "base_uri": "https://localhost:8080/"
        },
        "id": "EvD40hrtWFV-",
        "outputId": "1ff7a34b-5fea-4402-ccdc-4a32b60ab78b"
      },
      "execution_count": null,
      "outputs": [
        {
          "output_type": "execute_result",
          "data": {
            "text/plain": [
              "FreqDist({'অবশ্য': 1, 'এবার': 1, 'ছিল': 1, 'ততটা': 1, 'না': 1, 'সহজ': 1})"
            ]
          },
          "metadata": {},
          "execution_count": 22
        }
      ]
    },
    {
      "cell_type": "code",
      "source": [
        "from nltk.util import bigrams,trigrams,ngrams"
      ],
      "metadata": {
        "id": "cOov1LXBXBw5"
      },
      "execution_count": null,
      "outputs": []
    },
    {
      "cell_type": "code",
      "source": [
        "string=\"The best and most beautiful thing in the world cannot be seen or touched,they must be felt with the heart \""
      ],
      "metadata": {
        "id": "SM6XxL4XXIdz"
      },
      "execution_count": null,
      "outputs": []
    },
    {
      "cell_type": "code",
      "source": [
        "tok=nltk.word_tokenize(string)\n",
        "tok"
      ],
      "metadata": {
        "colab": {
          "base_uri": "https://localhost:8080/"
        },
        "id": "rGb24bnNXaGz",
        "outputId": "f33a6cbf-b884-4843-8d04-e4834967708b"
      },
      "execution_count": null,
      "outputs": [
        {
          "output_type": "execute_result",
          "data": {
            "text/plain": [
              "['The',\n",
              " 'best',\n",
              " 'and',\n",
              " 'most',\n",
              " 'beautiful',\n",
              " 'thing',\n",
              " 'in',\n",
              " 'the',\n",
              " 'world',\n",
              " 'can',\n",
              " 'not',\n",
              " 'be',\n",
              " 'seen',\n",
              " 'or',\n",
              " 'touched',\n",
              " ',',\n",
              " 'they',\n",
              " 'must',\n",
              " 'be',\n",
              " 'felt',\n",
              " 'with',\n",
              " 'the',\n",
              " 'heart']"
            ]
          },
          "metadata": {},
          "execution_count": 25
        }
      ]
    },
    {
      "cell_type": "code",
      "source": [
        "tok_bigrams=list(nltk.bigrams(tok))\n",
        "tok_bigrams"
      ],
      "metadata": {
        "colab": {
          "base_uri": "https://localhost:8080/"
        },
        "id": "agmCofFRXvRr",
        "outputId": "88c65725-5abf-4252-d7d4-825e38a3afa4"
      },
      "execution_count": null,
      "outputs": [
        {
          "output_type": "execute_result",
          "data": {
            "text/plain": [
              "[('The', 'best'),\n",
              " ('best', 'and'),\n",
              " ('and', 'most'),\n",
              " ('most', 'beautiful'),\n",
              " ('beautiful', 'thing'),\n",
              " ('thing', 'in'),\n",
              " ('in', 'the'),\n",
              " ('the', 'world'),\n",
              " ('world', 'can'),\n",
              " ('can', 'not'),\n",
              " ('not', 'be'),\n",
              " ('be', 'seen'),\n",
              " ('seen', 'or'),\n",
              " ('or', 'touched'),\n",
              " ('touched', ','),\n",
              " (',', 'they'),\n",
              " ('they', 'must'),\n",
              " ('must', 'be'),\n",
              " ('be', 'felt'),\n",
              " ('felt', 'with'),\n",
              " ('with', 'the'),\n",
              " ('the', 'heart')]"
            ]
          },
          "metadata": {},
          "execution_count": 26
        }
      ]
    },
    {
      "cell_type": "code",
      "source": [
        "tok_trigrams=list(nltk.trigrams(tok))\n",
        "tok_trigrams"
      ],
      "metadata": {
        "colab": {
          "base_uri": "https://localhost:8080/"
        },
        "id": "rPlnE-4lX80x",
        "outputId": "40a63819-348e-45a8-dde5-2b95b161748e"
      },
      "execution_count": null,
      "outputs": [
        {
          "output_type": "execute_result",
          "data": {
            "text/plain": [
              "[('The', 'best', 'and'),\n",
              " ('best', 'and', 'most'),\n",
              " ('and', 'most', 'beautiful'),\n",
              " ('most', 'beautiful', 'thing'),\n",
              " ('beautiful', 'thing', 'in'),\n",
              " ('thing', 'in', 'the'),\n",
              " ('in', 'the', 'world'),\n",
              " ('the', 'world', 'can'),\n",
              " ('world', 'can', 'not'),\n",
              " ('can', 'not', 'be'),\n",
              " ('not', 'be', 'seen'),\n",
              " ('be', 'seen', 'or'),\n",
              " ('seen', 'or', 'touched'),\n",
              " ('or', 'touched', ','),\n",
              " ('touched', ',', 'they'),\n",
              " (',', 'they', 'must'),\n",
              " ('they', 'must', 'be'),\n",
              " ('must', 'be', 'felt'),\n",
              " ('be', 'felt', 'with'),\n",
              " ('felt', 'with', 'the'),\n",
              " ('with', 'the', 'heart')]"
            ]
          },
          "metadata": {},
          "execution_count": 28
        }
      ]
    },
    {
      "cell_type": "code",
      "source": [
        "from nltk.stem import PorterStemmer\n",
        "pst=PorterStemmer()"
      ],
      "metadata": {
        "id": "UZ1iKhPcYuG9"
      },
      "execution_count": null,
      "outputs": []
    },
    {
      "cell_type": "code",
      "source": [
        "\n",
        "pst.stem(\"going\")"
      ],
      "metadata": {
        "colab": {
          "base_uri": "https://localhost:8080/",
          "height": 36
        },
        "id": "pKRZXz0DY2Me",
        "outputId": "c313f4c3-e20c-4bd8-dd91-d8633a421ecf"
      },
      "execution_count": null,
      "outputs": [
        {
          "output_type": "execute_result",
          "data": {
            "text/plain": [
              "'go'"
            ],
            "application/vnd.google.colaboratory.intrinsic+json": {
              "type": "string"
            }
          },
          "metadata": {},
          "execution_count": 31
        }
      ]
    },
    {
      "cell_type": "code",
      "source": [
        " \n",
        "pst.stem(\"leaving\")"
      ],
      "metadata": {
        "colab": {
          "base_uri": "https://localhost:8080/",
          "height": 36
        },
        "id": "PTZuR7ThZMD2",
        "outputId": "b79747d7-82fe-471f-f4b8-811897d2087e"
      },
      "execution_count": null,
      "outputs": [
        {
          "output_type": "execute_result",
          "data": {
            "text/plain": [
              "'leav'"
            ],
            "application/vnd.google.colaboratory.intrinsic+json": {
              "type": "string"
            }
          },
          "metadata": {},
          "execution_count": 32
        }
      ]
    },
    {
      "cell_type": "code",
      "source": [
        "words_to_stem=[\"give\",\"giving\",\"given\",\"gave\"]\n",
        "for words in words_to_stem:\n",
        "  print(words+\":\"+pst.stem(words))"
      ],
      "metadata": {
        "colab": {
          "base_uri": "https://localhost:8080/"
        },
        "id": "un0Wx2DiZRIV",
        "outputId": "613cba92-dfc7-4eac-f67a-caf4e36065c4"
      },
      "execution_count": null,
      "outputs": [
        {
          "output_type": "stream",
          "name": "stdout",
          "text": [
            "give:give\n",
            "giving:give\n",
            "given:given\n",
            "gave:gave\n"
          ]
        }
      ]
    },
    {
      "cell_type": "code",
      "source": [
        "from nltk.stem import wordnet\n",
        "from nltk.stem import WordNetLemmatizer\n",
        "word_lem=WordNetLemmatizer()"
      ],
      "metadata": {
        "id": "yhw_lkVGZqix"
      },
      "execution_count": null,
      "outputs": []
    },
    {
      "cell_type": "code",
      "source": [
        "nltk.download('wordnet')\n",
        "nltk.download('omw-1.4')"
      ],
      "metadata": {
        "colab": {
          "base_uri": "https://localhost:8080/"
        },
        "id": "sQnJdN7cbXUr",
        "outputId": "e1e72719-c16a-4600-fe94-c6daa86b8f8f"
      },
      "execution_count": null,
      "outputs": [
        {
          "output_type": "stream",
          "name": "stderr",
          "text": [
            "[nltk_data] Downloading package wordnet to /root/nltk_data...\n",
            "[nltk_data]   Package wordnet is already up-to-date!\n",
            "[nltk_data] Downloading package omw-1.4 to /root/nltk_data...\n"
          ]
        },
        {
          "output_type": "execute_result",
          "data": {
            "text/plain": [
              "True"
            ]
          },
          "metadata": {},
          "execution_count": 42
        }
      ]
    },
    {
      "cell_type": "code",
      "source": [
        "words_to_stem=[\"give\",\"giving\",\"given\",\"gave\"]\n",
        "for words in words_to_stem:\n",
        "  print(words+\":\"+word_lem.lemmatize(words))"
      ],
      "metadata": {
        "colab": {
          "base_uri": "https://localhost:8080/"
        },
        "id": "60iTB3iraTMi",
        "outputId": "d59cecb3-d1ee-498f-d9c2-0211aeb2fb49"
      },
      "execution_count": null,
      "outputs": [
        {
          "output_type": "stream",
          "name": "stdout",
          "text": [
            "give:give\n",
            "giving:giving\n",
            "given:given\n",
            "gave:gave\n"
          ]
        }
      ]
    },
    {
      "cell_type": "code",
      "source": [
        "from nltk.corpus import stopwords\n",
        "nltk.download('stopwords')"
      ],
      "metadata": {
        "colab": {
          "base_uri": "https://localhost:8080/"
        },
        "id": "rpmEAOqNbw5D",
        "outputId": "6be14fbd-6e51-4169-ab33-f13f8d4b7c00"
      },
      "execution_count": null,
      "outputs": [
        {
          "output_type": "stream",
          "name": "stderr",
          "text": [
            "[nltk_data] Downloading package stopwords to /root/nltk_data...\n",
            "[nltk_data]   Unzipping corpora/stopwords.zip.\n"
          ]
        },
        {
          "output_type": "execute_result",
          "data": {
            "text/plain": [
              "True"
            ]
          },
          "metadata": {},
          "execution_count": 48
        }
      ]
    },
    {
      "cell_type": "code",
      "source": [
        "stopwords.words('english')"
      ],
      "metadata": {
        "colab": {
          "base_uri": "https://localhost:8080/"
        },
        "id": "9tk2htTcb1iM",
        "outputId": "5e74d616-f187-45e5-aae9-76e85bab402f"
      },
      "execution_count": null,
      "outputs": [
        {
          "output_type": "execute_result",
          "data": {
            "text/plain": [
              "['i',\n",
              " 'me',\n",
              " 'my',\n",
              " 'myself',\n",
              " 'we',\n",
              " 'our',\n",
              " 'ours',\n",
              " 'ourselves',\n",
              " 'you',\n",
              " \"you're\",\n",
              " \"you've\",\n",
              " \"you'll\",\n",
              " \"you'd\",\n",
              " 'your',\n",
              " 'yours',\n",
              " 'yourself',\n",
              " 'yourselves',\n",
              " 'he',\n",
              " 'him',\n",
              " 'his',\n",
              " 'himself',\n",
              " 'she',\n",
              " \"she's\",\n",
              " 'her',\n",
              " 'hers',\n",
              " 'herself',\n",
              " 'it',\n",
              " \"it's\",\n",
              " 'its',\n",
              " 'itself',\n",
              " 'they',\n",
              " 'them',\n",
              " 'their',\n",
              " 'theirs',\n",
              " 'themselves',\n",
              " 'what',\n",
              " 'which',\n",
              " 'who',\n",
              " 'whom',\n",
              " 'this',\n",
              " 'that',\n",
              " \"that'll\",\n",
              " 'these',\n",
              " 'those',\n",
              " 'am',\n",
              " 'is',\n",
              " 'are',\n",
              " 'was',\n",
              " 'were',\n",
              " 'be',\n",
              " 'been',\n",
              " 'being',\n",
              " 'have',\n",
              " 'has',\n",
              " 'had',\n",
              " 'having',\n",
              " 'do',\n",
              " 'does',\n",
              " 'did',\n",
              " 'doing',\n",
              " 'a',\n",
              " 'an',\n",
              " 'the',\n",
              " 'and',\n",
              " 'but',\n",
              " 'if',\n",
              " 'or',\n",
              " 'because',\n",
              " 'as',\n",
              " 'until',\n",
              " 'while',\n",
              " 'of',\n",
              " 'at',\n",
              " 'by',\n",
              " 'for',\n",
              " 'with',\n",
              " 'about',\n",
              " 'against',\n",
              " 'between',\n",
              " 'into',\n",
              " 'through',\n",
              " 'during',\n",
              " 'before',\n",
              " 'after',\n",
              " 'above',\n",
              " 'below',\n",
              " 'to',\n",
              " 'from',\n",
              " 'up',\n",
              " 'down',\n",
              " 'in',\n",
              " 'out',\n",
              " 'on',\n",
              " 'off',\n",
              " 'over',\n",
              " 'under',\n",
              " 'again',\n",
              " 'further',\n",
              " 'then',\n",
              " 'once',\n",
              " 'here',\n",
              " 'there',\n",
              " 'when',\n",
              " 'where',\n",
              " 'why',\n",
              " 'how',\n",
              " 'all',\n",
              " 'any',\n",
              " 'both',\n",
              " 'each',\n",
              " 'few',\n",
              " 'more',\n",
              " 'most',\n",
              " 'other',\n",
              " 'some',\n",
              " 'such',\n",
              " 'no',\n",
              " 'nor',\n",
              " 'not',\n",
              " 'only',\n",
              " 'own',\n",
              " 'same',\n",
              " 'so',\n",
              " 'than',\n",
              " 'too',\n",
              " 'very',\n",
              " 's',\n",
              " 't',\n",
              " 'can',\n",
              " 'will',\n",
              " 'just',\n",
              " 'don',\n",
              " \"don't\",\n",
              " 'should',\n",
              " \"should've\",\n",
              " 'now',\n",
              " 'd',\n",
              " 'll',\n",
              " 'm',\n",
              " 'o',\n",
              " 're',\n",
              " 've',\n",
              " 'y',\n",
              " 'ain',\n",
              " 'aren',\n",
              " \"aren't\",\n",
              " 'couldn',\n",
              " \"couldn't\",\n",
              " 'didn',\n",
              " \"didn't\",\n",
              " 'doesn',\n",
              " \"doesn't\",\n",
              " 'hadn',\n",
              " \"hadn't\",\n",
              " 'hasn',\n",
              " \"hasn't\",\n",
              " 'haven',\n",
              " \"haven't\",\n",
              " 'isn',\n",
              " \"isn't\",\n",
              " 'ma',\n",
              " 'mightn',\n",
              " \"mightn't\",\n",
              " 'mustn',\n",
              " \"mustn't\",\n",
              " 'needn',\n",
              " \"needn't\",\n",
              " 'shan',\n",
              " \"shan't\",\n",
              " 'shouldn',\n",
              " \"shouldn't\",\n",
              " 'wasn',\n",
              " \"wasn't\",\n",
              " 'weren',\n",
              " \"weren't\",\n",
              " 'won',\n",
              " \"won't\",\n",
              " 'wouldn',\n",
              " \"wouldn't\"]"
            ]
          },
          "metadata": {},
          "execution_count": 50
        }
      ]
    },
    {
      "cell_type": "code",
      "source": [
        "len(stopwords.words('english'))"
      ],
      "metadata": {
        "colab": {
          "base_uri": "https://localhost:8080/"
        },
        "id": "K0o0SrfCcM5L",
        "outputId": "1fc9d133-c67a-4c96-f3b6-fab5f8cd1ae4"
      },
      "execution_count": null,
      "outputs": [
        {
          "output_type": "execute_result",
          "data": {
            "text/plain": [
              "179"
            ]
          },
          "metadata": {},
          "execution_count": 54
        }
      ]
    },
    {
      "cell_type": "code",
      "source": [
        "sent=\"Timothy is a natural when it comes to drawing\"\n",
        "sent_tokens=nltk.word_tokenize(sent)\n",
        "nltk.download('averaged_perceptron_tagger')"
      ],
      "metadata": {
        "colab": {
          "base_uri": "https://localhost:8080/"
        },
        "id": "GKDx-ae3cg03",
        "outputId": "6d822ce9-2481-45eb-a81d-62a2686a7b94"
      },
      "execution_count": null,
      "outputs": [
        {
          "output_type": "stream",
          "name": "stderr",
          "text": [
            "[nltk_data] Downloading package averaged_perceptron_tagger to\n",
            "[nltk_data]     /root/nltk_data...\n",
            "[nltk_data]   Unzipping taggers/averaged_perceptron_tagger.zip.\n"
          ]
        },
        {
          "output_type": "execute_result",
          "data": {
            "text/plain": [
              "True"
            ]
          },
          "metadata": {},
          "execution_count": 58
        }
      ]
    },
    {
      "cell_type": "code",
      "source": [
        "for token in sent_tokens:\n",
        "   print(nltk.pos_tag([token]))"
      ],
      "metadata": {
        "colab": {
          "base_uri": "https://localhost:8080/"
        },
        "id": "0aZfKTk3ezbL",
        "outputId": "157d4425-d122-41aa-e18e-d71d6645ddaf"
      },
      "execution_count": null,
      "outputs": [
        {
          "output_type": "stream",
          "name": "stdout",
          "text": [
            "[('Timothy', 'NN')]\n",
            "[('is', 'VBZ')]\n",
            "[('a', 'DT')]\n",
            "[('natural', 'JJ')]\n",
            "[('when', 'WRB')]\n",
            "[('it', 'PRP')]\n",
            "[('comes', 'VBZ')]\n",
            "[('to', 'TO')]\n",
            "[('drawing', 'VBG')]\n"
          ]
        }
      ]
    },
    {
      "cell_type": "markdown",
      "source": [
        "**English Text Generation**"
      ],
      "metadata": {
        "id": "i_cJU_cb12WD"
      }
    },
    {
      "cell_type": "code",
      "source": [
        "import tensorflow as tf\n",
        "from tensorflow.keras.preprocessing.text import Tokenizer\n",
        "from tensorflow.keras.layers import Embedding, LSTM, Dense\n",
        "from tensorflow.keras.models import Sequential\n",
        "from tensorflow.keras.utils import to_categorical\n",
        "from tensorflow.keras.optimizers import Adam\n",
        "import pickle\n",
        "import numpy as np\n",
        "import os"
      ],
      "metadata": {
        "id": "jytdhuvM17Dp"
      },
      "execution_count": 1,
      "outputs": []
    },
    {
      "cell_type": "code",
      "source": [
        "from google.colab import files\n",
        "uploaded = files.upload()"
      ],
      "metadata": {
        "colab": {
          "resources": {
            "http://localhost:8080/nbextensions/google.colab/files.js": {
              "data": "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",
              "ok": true,
              "headers": [
                [
                  "content-type",
                  "application/javascript"
                ]
              ],
              "status": 200,
              "status_text": ""
            }
          },
          "base_uri": "https://localhost:8080/",
          "height": 74
        },
        "id": "3EbcBBaX51Tw",
        "outputId": "d06c86b6-750b-4592-85c2-ddb66892f2ec"
      },
      "execution_count": 2,
      "outputs": [
        {
          "output_type": "display_data",
          "data": {
            "text/plain": [
              "<IPython.core.display.HTML object>"
            ],
            "text/html": [
              "\n",
              "     <input type=\"file\" id=\"files-76a580a2-f0e2-4c4c-9a14-923c30364bff\" name=\"files[]\" multiple disabled\n",
              "        style=\"border:none\" />\n",
              "     <output id=\"result-76a580a2-f0e2-4c4c-9a14-923c30364bff\">\n",
              "      Upload widget is only available when the cell has been executed in the\n",
              "      current browser session. Please rerun this cell to enable.\n",
              "      </output>\n",
              "      <script src=\"/nbextensions/google.colab/files.js\"></script> "
            ]
          },
          "metadata": {}
        },
        {
          "output_type": "stream",
          "name": "stdout",
          "text": [
            "Saving Price and Prejudice.txt to Price and Prejudice.txt\n"
          ]
        }
      ]
    },
    {
      "cell_type": "code",
      "source": [
        " file = open(\"Price and Prejudice.txt\", \"r\", encoding = \"utf8\")\n",
        "\n",
        "# store file in list\n",
        "lines = []\n",
        "for i in file:\n",
        "    lines.append(i)\n",
        "\n",
        "# Convert list to string\n",
        "data = \"\"\n",
        "for i in lines:\n",
        "  data = ' '. join(lines) \n",
        "\n",
        "#replace unnecessary stuff with space\n",
        "data = data.replace('\\n', '').replace('\\r', '').replace('\\ufeff', '').replace('“','').replace('”','')  #new line, carriage return, unicode character --> replace by space\n",
        "\n",
        "#remove unnecessary spaces \n",
        "data = data.split()\n",
        "data = ' '.join(data)\n",
        "data[:500]"
      ],
      "metadata": {
        "id": "mtngPlL86FiQ",
        "colab": {
          "base_uri": "https://localhost:8080/",
          "height": 70
        },
        "outputId": "5ad9c61e-48c9-4f11-f8f7-6bb9fd18c04b"
      },
      "execution_count": 4,
      "outputs": [
        {
          "output_type": "execute_result",
          "data": {
            "text/plain": [
              "'The Project Gutenberg eBook of Pride and Prejudice, by Jane Austen This eBook is for the use of anyone anywhere in the United States and most other parts of the world at no cost and with almost no restrictions whatsoever. You may copy it, give it away or re-use it under the terms of the Project Gutenberg License included with this eBook or online at www.gutenberg.org. If you are not located in the United States, you will have to check the laws of the country where you are located before using th'"
            ],
            "application/vnd.google.colaboratory.intrinsic+json": {
              "type": "string"
            }
          },
          "metadata": {},
          "execution_count": 4
        }
      ]
    },
    {
      "cell_type": "code",
      "source": [
        "len(data)"
      ],
      "metadata": {
        "id": "Qup6iQQm6O48",
        "colab": {
          "base_uri": "https://localhost:8080/"
        },
        "outputId": "2cd3e735-2033-47f0-de9d-10b6ba764f64"
      },
      "execution_count": 5,
      "outputs": [
        {
          "output_type": "execute_result",
          "data": {
            "text/plain": [
              "698418"
            ]
          },
          "metadata": {},
          "execution_count": 5
        }
      ]
    },
    {
      "cell_type": "code",
      "source": [
        "tokenizer = Tokenizer()\n",
        "tokenizer.fit_on_texts([data])\n",
        "\n",
        "# saving the tokenizer for predict function\n",
        "pickle.dump(tokenizer, open('token.pkl', 'wb'))\n",
        "\n",
        "sequence_data = tokenizer.texts_to_sequences([data])[0]\n",
        "sequence_data[:15]"
      ],
      "metadata": {
        "id": "2jyMCUVS6V4c",
        "colab": {
          "base_uri": "https://localhost:8080/"
        },
        "outputId": "29ea5acd-b119-4b51-fd0b-0cb30fddf9f8"
      },
      "execution_count": 6,
      "outputs": [
        {
          "output_type": "execute_result",
          "data": {
            "text/plain": [
              "[1, 176, 158, 916, 3, 321, 4, 1171, 30, 72, 2534, 41, 916, 23, 21]"
            ]
          },
          "metadata": {},
          "execution_count": 6
        }
      ]
    },
    {
      "cell_type": "code",
      "source": [
        "len(sequence_data)"
      ],
      "metadata": {
        "id": "g_H0IKXa6WEY",
        "colab": {
          "base_uri": "https://localhost:8080/"
        },
        "outputId": "601b3613-8850-4936-f53e-de556ffc26c6"
      },
      "execution_count": 7,
      "outputs": [
        {
          "output_type": "execute_result",
          "data": {
            "text/plain": [
              "125309"
            ]
          },
          "metadata": {},
          "execution_count": 7
        }
      ]
    },
    {
      "cell_type": "code",
      "source": [
        "vocab_size = len(tokenizer.word_index) + 1\n",
        "print(vocab_size)"
      ],
      "metadata": {
        "id": "ah97y2FL6WOf",
        "colab": {
          "base_uri": "https://localhost:8080/"
        },
        "outputId": "4225fb8a-ed1f-4d9f-ed77-ea773fbfa791"
      },
      "execution_count": 8,
      "outputs": [
        {
          "output_type": "stream",
          "name": "stdout",
          "text": [
            "7030\n"
          ]
        }
      ]
    },
    {
      "cell_type": "code",
      "source": [
        "sequences = []\n",
        "\n",
        "for i in range(3, len(sequence_data)):\n",
        "    words = sequence_data[i-3:i+1]\n",
        "    sequences.append(words)\n",
        "    \n",
        "print(\"The Length of sequences are: \", len(sequences))\n",
        "sequences = np.array(sequences)\n",
        "sequences[:10]"
      ],
      "metadata": {
        "id": "-fyMm8in6WW6",
        "colab": {
          "base_uri": "https://localhost:8080/"
        },
        "outputId": "e4933588-775f-4f8c-fef5-3dd907da70d1"
      },
      "execution_count": 9,
      "outputs": [
        {
          "output_type": "stream",
          "name": "stdout",
          "text": [
            "The Length of sequences are:  125306\n"
          ]
        },
        {
          "output_type": "execute_result",
          "data": {
            "text/plain": [
              "array([[   1,  176,  158,  916],\n",
              "       [ 176,  158,  916,    3],\n",
              "       [ 158,  916,    3,  321],\n",
              "       [ 916,    3,  321,    4],\n",
              "       [   3,  321,    4, 1171],\n",
              "       [ 321,    4, 1171,   30],\n",
              "       [   4, 1171,   30,   72],\n",
              "       [1171,   30,   72, 2534],\n",
              "       [  30,   72, 2534,   41],\n",
              "       [  72, 2534,   41,  916]])"
            ]
          },
          "metadata": {},
          "execution_count": 9
        }
      ]
    },
    {
      "cell_type": "code",
      "source": [
        "X = []\n",
        "y = []\n",
        "\n",
        "for i in sequences:\n",
        "    X.append(i[0:3])\n",
        "    y.append(i[3])\n",
        "    \n",
        "X = np.array(X)\n",
        "y = np.array(y)"
      ],
      "metadata": {
        "id": "6SaJ2AYP6Wfw"
      },
      "execution_count": 10,
      "outputs": []
    },
    {
      "cell_type": "code",
      "source": [
        "print(\"Data: \", X[:10])\n",
        "print(\"Response: \", y[:10])"
      ],
      "metadata": {
        "id": "6DfpEKfh6Woh",
        "colab": {
          "base_uri": "https://localhost:8080/"
        },
        "outputId": "411abbd0-6320-4fd9-b636-ffdce9287248"
      },
      "execution_count": 11,
      "outputs": [
        {
          "output_type": "stream",
          "name": "stdout",
          "text": [
            "Data:  [[   1  176  158]\n",
            " [ 176  158  916]\n",
            " [ 158  916    3]\n",
            " [ 916    3  321]\n",
            " [   3  321    4]\n",
            " [ 321    4 1171]\n",
            " [   4 1171   30]\n",
            " [1171   30   72]\n",
            " [  30   72 2534]\n",
            " [  72 2534   41]]\n",
            "Response:  [ 916    3  321    4 1171   30   72 2534   41  916]\n"
          ]
        }
      ]
    },
    {
      "cell_type": "code",
      "source": [
        "y = to_categorical(y, num_classes=vocab_size)\n",
        "y[:5]"
      ],
      "metadata": {
        "id": "-bHUatT66WxY",
        "colab": {
          "base_uri": "https://localhost:8080/"
        },
        "outputId": "004bac04-636d-4ce1-a3e4-0b9465c80e4c"
      },
      "execution_count": 12,
      "outputs": [
        {
          "output_type": "execute_result",
          "data": {
            "text/plain": [
              "array([[0., 0., 0., ..., 0., 0., 0.],\n",
              "       [0., 0., 0., ..., 0., 0., 0.],\n",
              "       [0., 0., 0., ..., 0., 0., 0.],\n",
              "       [0., 0., 0., ..., 0., 0., 0.],\n",
              "       [0., 0., 0., ..., 0., 0., 0.]], dtype=float32)"
            ]
          },
          "metadata": {},
          "execution_count": 12
        }
      ]
    },
    {
      "cell_type": "code",
      "source": [
        "model = Sequential()\n",
        "model.add(Embedding(vocab_size, 10, input_length=3))\n",
        "model.add(LSTM(1000, return_sequences=True))\n",
        "model.add(LSTM(1000))\n",
        "model.add(Dense(1000, activation=\"relu\"))\n",
        "model.add(Dense(vocab_size, activation=\"softmax\"))"
      ],
      "metadata": {
        "id": "m55Ho96J6t_z"
      },
      "execution_count": 13,
      "outputs": []
    },
    {
      "cell_type": "code",
      "source": [
        "model.summary()"
      ],
      "metadata": {
        "id": "tfYpbHBs6uX8",
        "colab": {
          "base_uri": "https://localhost:8080/"
        },
        "outputId": "4c233c07-65ff-43c2-d607-4c4aa1322227"
      },
      "execution_count": 14,
      "outputs": [
        {
          "output_type": "stream",
          "name": "stdout",
          "text": [
            "Model: \"sequential\"\n",
            "_________________________________________________________________\n",
            " Layer (type)                Output Shape              Param #   \n",
            "=================================================================\n",
            " embedding (Embedding)       (None, 3, 10)             70300     \n",
            "                                                                 \n",
            " lstm (LSTM)                 (None, 3, 1000)           4044000   \n",
            "                                                                 \n",
            " lstm_1 (LSTM)               (None, 1000)              8004000   \n",
            "                                                                 \n",
            " dense (Dense)               (None, 1000)              1001000   \n",
            "                                                                 \n",
            " dense_1 (Dense)             (None, 7030)              7037030   \n",
            "                                                                 \n",
            "=================================================================\n",
            "Total params: 20,156,330\n",
            "Trainable params: 20,156,330\n",
            "Non-trainable params: 0\n",
            "_________________________________________________________________\n"
          ]
        }
      ]
    },
    {
      "cell_type": "code",
      "source": [
        "from tensorflow import keras\n",
        "from keras.utils.vis_utils import plot_model\n",
        "\n",
        "keras.utils.plot_model(model, to_file='plot.png', show_layer_names=True)"
      ],
      "metadata": {
        "id": "YaGNa6896uim",
        "colab": {
          "base_uri": "https://localhost:8080/",
          "height": 564
        },
        "outputId": "695365c7-3039-46a4-8608-5b98756fa451"
      },
      "execution_count": 15,
      "outputs": [
        {
          "output_type": "execute_result",
          "data": {
            "text/plain": [
              "<IPython.core.display.Image object>"
            ],
            "image/png": "[encoded data removed]"
          },
          "metadata": {},
          "execution_count": 15
        }
      ]
    },
    {
      "cell_type": "code",
      "source": [
        "from tensorflow.keras.callbacks import ModelCheckpoint\n",
        "\n",
        "checkpoint = ModelCheckpoint(\"next_words.h5\", monitor='loss', verbose=1, save_best_only=True)\n",
        "model.compile(loss=\"categorical_crossentropy\", optimizer=Adam(learning_rate=0.001))\n",
        "model.fit(X, y, epochs=70, batch_size=64, callbacks=[checkpoint])"
      ],
      "metadata": {
        "id": "QNB_Cn8-6usN",
        "colab": {
          "base_uri": "https://localhost:8080/"
        },
        "outputId": "c342f972-107f-48ad-c889-728d1c0e0e1f"
      },
      "execution_count": 16,
      "outputs": [
        {
          "output_type": "stream",
          "name": "stdout",
          "text": [
            "Epoch 1/70\n",
            "1958/1958 [==============================] - ETA: 0s - loss: 6.2595\n",
            "Epoch 1: loss improved from inf to 6.25947, saving model to next_words.h5\n",
            "1958/1958 [==============================] - 37s 15ms/step - loss: 6.2595\n",
            "Epoch 2/70\n",
            "1956/1958 [============================>.] - ETA: 0s - loss: 5.6476\n",
            "Epoch 2: loss improved from 6.25947 to 5.64734, saving model to next_words.h5\n",
            "1958/1958 [==============================] - 30s 15ms/step - loss: 5.6473\n",
            "Epoch 3/70\n",
            "1955/1958 [============================>.] - ETA: 0s - loss: 5.2987\n",
            "Epoch 3: loss improved from 5.64734 to 5.29897, saving model to next_words.h5\n",
            "1958/1958 [==============================] - 29s 15ms/step - loss: 5.2990\n",
            "Epoch 4/70\n",
            "1956/1958 [============================>.] - ETA: 0s - loss: 5.0538\n",
            "Epoch 4: loss improved from 5.29897 to 5.05354, saving model to next_words.h5\n",
            "1958/1958 [==============================] - 30s 15ms/step - loss: 5.0535\n",
            "Epoch 5/70\n",
            "1958/1958 [==============================] - ETA: 0s - loss: 4.8461\n",
            "Epoch 5: loss improved from 5.05354 to 4.84610, saving model to next_words.h5\n",
            "1958/1958 [==============================] - 29s 15ms/step - loss: 4.8461\n",
            "Epoch 6/70\n",
            "1957/1958 [============================>.] - ETA: 0s - loss: 4.6459\n",
            "Epoch 6: loss improved from 4.84610 to 4.64598, saving model to next_words.h5\n",
            "1958/1958 [==============================] - 30s 15ms/step - loss: 4.6460\n",
            "Epoch 7/70\n",
            "1957/1958 [============================>.] - ETA: 0s - loss: 4.4420\n",
            "Epoch 7: loss improved from 4.64598 to 4.44210, saving model to next_words.h5\n",
            "1958/1958 [==============================] - 30s 15ms/step - loss: 4.4421\n",
            "Epoch 8/70\n",
            "1955/1958 [============================>.] - ETA: 0s - loss: 4.2310\n",
            "Epoch 8: loss improved from 4.44210 to 4.23078, saving model to next_words.h5\n",
            "1958/1958 [==============================] - 30s 15ms/step - loss: 4.2308\n",
            "Epoch 9/70\n",
            "1957/1958 [============================>.] - ETA: 0s - loss: 4.0111\n",
            "Epoch 9: loss improved from 4.23078 to 4.01143, saving model to next_words.h5\n",
            "1958/1958 [==============================] - 30s 15ms/step - loss: 4.0114\n",
            "Epoch 10/70\n",
            "1957/1958 [============================>.] - ETA: 0s - loss: 3.7861\n",
            "Epoch 10: loss improved from 4.01143 to 3.78619, saving model to next_words.h5\n",
            "1958/1958 [==============================] - 30s 15ms/step - loss: 3.7862\n",
            "Epoch 11/70\n",
            "1956/1958 [============================>.] - ETA: 0s - loss: 3.5577\n",
            "Epoch 11: loss improved from 3.78619 to 3.55774, saving model to next_words.h5\n",
            "1958/1958 [==============================] - 30s 15ms/step - loss: 3.5577\n",
            "Epoch 12/70\n",
            "1958/1958 [==============================] - ETA: 0s - loss: 3.3276\n",
            "Epoch 12: loss improved from 3.55774 to 3.32765, saving model to next_words.h5\n",
            "1958/1958 [==============================] - 30s 15ms/step - loss: 3.3276\n",
            "Epoch 13/70\n",
            "1958/1958 [==============================] - ETA: 0s - loss: 3.0942\n",
            "Epoch 13: loss improved from 3.32765 to 3.09425, saving model to next_words.h5\n",
            "1958/1958 [==============================] - 30s 15ms/step - loss: 3.0942\n",
            "Epoch 14/70\n",
            "1955/1958 [============================>.] - ETA: 0s - loss: 2.8557\n",
            "Epoch 14: loss improved from 3.09425 to 2.85557, saving model to next_words.h5\n",
            "1958/1958 [==============================] - 30s 15ms/step - loss: 2.8556\n",
            "Epoch 15/70\n",
            "1956/1958 [============================>.] - ETA: 0s - loss: 2.6128\n",
            "Epoch 15: loss improved from 2.85557 to 2.61284, saving model to next_words.h5\n",
            "1958/1958 [==============================] - 30s 15ms/step - loss: 2.6128\n",
            "Epoch 16/70\n",
            "1957/1958 [============================>.] - ETA: 0s - loss: 2.3663\n",
            "Epoch 16: loss improved from 2.61284 to 2.36627, saving model to next_words.h5\n",
            "1958/1958 [==============================] - 30s 15ms/step - loss: 2.3663\n",
            "Epoch 17/70\n",
            "1955/1958 [============================>.] - ETA: 0s - loss: 2.1263\n",
            "Epoch 17: loss improved from 2.36627 to 2.12641, saving model to next_words.h5\n",
            "1958/1958 [==============================] - 30s 15ms/step - loss: 2.1264\n",
            "Epoch 18/70\n",
            "1958/1958 [==============================] - ETA: 0s - loss: 1.8984\n",
            "Epoch 18: loss improved from 2.12641 to 1.89838, saving model to next_words.h5\n",
            "1958/1958 [==============================] - 30s 15ms/step - loss: 1.8984\n",
            "Epoch 19/70\n",
            "1958/1958 [==============================] - ETA: 0s - loss: 1.6869\n",
            "Epoch 19: loss improved from 1.89838 to 1.68690, saving model to next_words.h5\n",
            "1958/1958 [==============================] - 30s 15ms/step - loss: 1.6869\n",
            "Epoch 20/70\n",
            "1958/1958 [==============================] - ETA: 0s - loss: 1.4992\n",
            "Epoch 20: loss improved from 1.68690 to 1.49923, saving model to next_words.h5\n",
            "1958/1958 [==============================] - 30s 15ms/step - loss: 1.4992\n",
            "Epoch 21/70\n",
            "1958/1958 [==============================] - ETA: 0s - loss: 1.3353\n",
            "Epoch 21: loss improved from 1.49923 to 1.33528, saving model to next_words.h5\n",
            "1958/1958 [==============================] - 30s 15ms/step - loss: 1.3353\n",
            "Epoch 22/70\n",
            "1955/1958 [============================>.] - ETA: 0s - loss: 1.1998\n",
            "Epoch 22: loss improved from 1.33528 to 1.19979, saving model to next_words.h5\n",
            "1958/1958 [==============================] - 30s 15ms/step - loss: 1.1998\n",
            "Epoch 23/70\n",
            "1958/1958 [==============================] - ETA: 0s - loss: 1.0892\n",
            "Epoch 23: loss improved from 1.19979 to 1.08921, saving model to next_words.h5\n",
            "1958/1958 [==============================] - 30s 15ms/step - loss: 1.0892\n",
            "Epoch 24/70\n",
            "1956/1958 [============================>.] - ETA: 0s - loss: 1.0017\n",
            "Epoch 24: loss improved from 1.08921 to 1.00188, saving model to next_words.h5\n",
            "1958/1958 [==============================] - 30s 15ms/step - loss: 1.0019\n",
            "Epoch 25/70\n",
            "1956/1958 [============================>.] - ETA: 0s - loss: 0.9272\n",
            "Epoch 25: loss improved from 1.00188 to 0.92748, saving model to next_words.h5\n",
            "1958/1958 [==============================] - 30s 15ms/step - loss: 0.9275\n",
            "Epoch 26/70\n",
            "1955/1958 [============================>.] - ETA: 0s - loss: 0.8662\n",
            "Epoch 26: loss improved from 0.92748 to 0.86625, saving model to next_words.h5\n",
            "1958/1958 [==============================] - 30s 15ms/step - loss: 0.8662\n",
            "Epoch 27/70\n",
            "1957/1958 [============================>.] - ETA: 0s - loss: 0.8251\n",
            "Epoch 27: loss improved from 0.86625 to 0.82536, saving model to next_words.h5\n",
            "1958/1958 [==============================] - 30s 15ms/step - loss: 0.8254\n",
            "Epoch 28/70\n",
            "1955/1958 [============================>.] - ETA: 0s - loss: 0.7836\n",
            "Epoch 28: loss improved from 0.82536 to 0.78407, saving model to next_words.h5\n",
            "1958/1958 [==============================] - 30s 15ms/step - loss: 0.7841\n",
            "Epoch 29/70\n",
            "1956/1958 [============================>.] - ETA: 0s - loss: 0.7523\n",
            "Epoch 29: loss improved from 0.78407 to 0.75230, saving model to next_words.h5\n",
            "1958/1958 [==============================] - 30s 15ms/step - loss: 0.7523\n",
            "Epoch 30/70\n",
            "1955/1958 [============================>.] - ETA: 0s - loss: 0.7215\n",
            "Epoch 30: loss improved from 0.75230 to 0.72177, saving model to next_words.h5\n",
            "1958/1958 [==============================] - 30s 15ms/step - loss: 0.7218\n",
            "Epoch 31/70\n",
            "1956/1958 [============================>.] - ETA: 0s - loss: 0.6987\n",
            "Epoch 31: loss improved from 0.72177 to 0.69893, saving model to next_words.h5\n",
            "1958/1958 [==============================] - 30s 15ms/step - loss: 0.6989\n",
            "Epoch 32/70\n",
            "1956/1958 [============================>.] - ETA: 0s - loss: 0.6805\n",
            "Epoch 32: loss improved from 0.69893 to 0.68047, saving model to next_words.h5\n",
            "1958/1958 [==============================] - 30s 15ms/step - loss: 0.6805\n",
            "Epoch 33/70\n",
            "1958/1958 [==============================] - ETA: 0s - loss: 0.6631\n",
            "Epoch 33: loss improved from 0.68047 to 0.66309, saving model to next_words.h5\n",
            "1958/1958 [==============================] - 30s 15ms/step - loss: 0.6631\n",
            "Epoch 34/70\n",
            "1958/1958 [==============================] - ETA: 0s - loss: 0.6458\n",
            "Epoch 34: loss improved from 0.66309 to 0.64578, saving model to next_words.h5\n",
            "1958/1958 [==============================] - 30s 15ms/step - loss: 0.6458\n",
            "Epoch 35/70\n",
            "1955/1958 [============================>.] - ETA: 0s - loss: 0.6295\n",
            "Epoch 35: loss improved from 0.64578 to 0.62978, saving model to next_words.h5\n",
            "1958/1958 [==============================] - 30s 15ms/step - loss: 0.6298\n",
            "Epoch 36/70\n",
            "1957/1958 [============================>.] - ETA: 0s - loss: 0.6203\n",
            "Epoch 36: loss improved from 0.62978 to 0.62024, saving model to next_words.h5\n",
            "1958/1958 [==============================] - 30s 15ms/step - loss: 0.6202\n",
            "Epoch 37/70\n",
            "1957/1958 [============================>.] - ETA: 0s - loss: 0.6037\n",
            "Epoch 37: loss improved from 0.62024 to 0.60382, saving model to next_words.h5\n",
            "1958/1958 [==============================] - 30s 15ms/step - loss: 0.6038\n",
            "Epoch 38/70\n",
            "1958/1958 [==============================] - ETA: 0s - loss: 0.5954\n",
            "Epoch 38: loss improved from 0.60382 to 0.59537, saving model to next_words.h5\n",
            "1958/1958 [==============================] - 30s 15ms/step - loss: 0.5954\n",
            "Epoch 39/70\n",
            "1957/1958 [============================>.] - ETA: 0s - loss: 0.5824\n",
            "Epoch 39: loss improved from 0.59537 to 0.58253, saving model to next_words.h5\n",
            "1958/1958 [==============================] - 30s 15ms/step - loss: 0.5825\n",
            "Epoch 40/70\n",
            "1957/1958 [============================>.] - ETA: 0s - loss: 0.5751\n",
            "Epoch 40: loss improved from 0.58253 to 0.57499, saving model to next_words.h5\n",
            "1958/1958 [==============================] - 30s 15ms/step - loss: 0.5750\n",
            "Epoch 41/70\n",
            "1955/1958 [============================>.] - ETA: 0s - loss: 0.5681\n",
            "Epoch 41: loss improved from 0.57499 to 0.56804, saving model to next_words.h5\n",
            "1958/1958 [==============================] - 30s 15ms/step - loss: 0.5680\n",
            "Epoch 42/70\n",
            "1957/1958 [============================>.] - ETA: 0s - loss: 0.5577\n",
            "Epoch 42: loss improved from 0.56804 to 0.55760, saving model to next_words.h5\n",
            "1958/1958 [==============================] - 30s 15ms/step - loss: 0.5576\n",
            "Epoch 43/70\n",
            "1955/1958 [============================>.] - ETA: 0s - loss: 0.5480\n",
            "Epoch 43: loss improved from 0.55760 to 0.54842, saving model to next_words.h5\n",
            "1958/1958 [==============================] - 30s 15ms/step - loss: 0.5484\n",
            "Epoch 44/70\n",
            "1956/1958 [============================>.] - ETA: 0s - loss: 0.5409\n",
            "Epoch 44: loss improved from 0.54842 to 0.54090, saving model to next_words.h5\n",
            "1958/1958 [==============================] - 30s 15ms/step - loss: 0.5409\n",
            "Epoch 45/70\n",
            "1958/1958 [==============================] - ETA: 0s - loss: 0.5353\n",
            "Epoch 45: loss improved from 0.54090 to 0.53528, saving model to next_words.h5\n",
            "1958/1958 [==============================] - 30s 15ms/step - loss: 0.5353\n",
            "Epoch 46/70\n",
            "1956/1958 [============================>.] - ETA: 0s - loss: 0.5289\n",
            "Epoch 46: loss improved from 0.53528 to 0.52892, saving model to next_words.h5\n",
            "1958/1958 [==============================] - 30s 15ms/step - loss: 0.5289\n",
            "Epoch 47/70\n",
            "1955/1958 [============================>.] - ETA: 0s - loss: 0.5252\n",
            "Epoch 47: loss improved from 0.52892 to 0.52525, saving model to next_words.h5\n",
            "1958/1958 [==============================] - 30s 15ms/step - loss: 0.5253\n",
            "Epoch 48/70\n",
            "1955/1958 [============================>.] - ETA: 0s - loss: 0.5191\n",
            "Epoch 48: loss improved from 0.52525 to 0.51931, saving model to next_words.h5\n",
            "1958/1958 [==============================] - 30s 15ms/step - loss: 0.5193\n",
            "Epoch 49/70\n",
            "1956/1958 [============================>.] - ETA: 0s - loss: 0.5092\n",
            "Epoch 49: loss improved from 0.51931 to 0.50951, saving model to next_words.h5\n",
            "1958/1958 [==============================] - 30s 15ms/step - loss: 0.5095\n",
            "Epoch 50/70\n",
            "1958/1958 [==============================] - ETA: 0s - loss: 0.5050\n",
            "Epoch 50: loss improved from 0.50951 to 0.50500, saving model to next_words.h5\n",
            "1958/1958 [==============================] - 30s 15ms/step - loss: 0.5050\n",
            "Epoch 51/70\n",
            "1957/1958 [============================>.] - ETA: 0s - loss: 0.5021\n",
            "Epoch 51: loss improved from 0.50500 to 0.50201, saving model to next_words.h5\n",
            "1958/1958 [==============================] - 30s 15ms/step - loss: 0.5020\n",
            "Epoch 52/70\n",
            "1957/1958 [============================>.] - ETA: 0s - loss: 0.4948\n",
            "Epoch 52: loss improved from 0.50201 to 0.49481, saving model to next_words.h5\n",
            "1958/1958 [==============================] - 30s 15ms/step - loss: 0.4948\n",
            "Epoch 53/70\n",
            "1956/1958 [============================>.] - ETA: 0s - loss: 0.4914\n",
            "Epoch 53: loss improved from 0.49481 to 0.49158, saving model to next_words.h5\n",
            "1958/1958 [==============================] - 30s 15ms/step - loss: 0.4916\n",
            "Epoch 54/70\n",
            "1957/1958 [============================>.] - ETA: 0s - loss: 0.4878\n",
            "Epoch 54: loss improved from 0.49158 to 0.48785, saving model to next_words.h5\n",
            "1958/1958 [==============================] - 30s 15ms/step - loss: 0.4878\n",
            "Epoch 55/70\n",
            "1956/1958 [============================>.] - ETA: 0s - loss: 0.4858\n",
            "Epoch 55: loss improved from 0.48785 to 0.48600, saving model to next_words.h5\n",
            "1958/1958 [==============================] - 30s 15ms/step - loss: 0.4860\n",
            "Epoch 56/70\n",
            "1958/1958 [==============================] - ETA: 0s - loss: 0.4808\n",
            "Epoch 56: loss improved from 0.48600 to 0.48079, saving model to next_words.h5\n",
            "1958/1958 [==============================] - 30s 15ms/step - loss: 0.4808\n",
            "Epoch 57/70\n",
            "1958/1958 [==============================] - ETA: 0s - loss: 0.4739\n",
            "Epoch 57: loss improved from 0.48079 to 0.47388, saving model to next_words.h5\n",
            "1958/1958 [==============================] - 30s 15ms/step - loss: 0.4739\n",
            "Epoch 58/70\n",
            "1957/1958 [============================>.] - ETA: 0s - loss: 0.4745\n",
            "Epoch 58: loss did not improve from 0.47388\n",
            "1958/1958 [==============================] - 29s 15ms/step - loss: 0.4745\n",
            "Epoch 59/70\n",
            "1956/1958 [============================>.] - ETA: 0s - loss: 0.4709\n",
            "Epoch 59: loss improved from 0.47388 to 0.47078, saving model to next_words.h5\n",
            "1958/1958 [==============================] - 30s 15ms/step - loss: 0.4708\n",
            "Epoch 60/70\n",
            "1958/1958 [==============================] - ETA: 0s - loss: 0.4652\n",
            "Epoch 60: loss improved from 0.47078 to 0.46521, saving model to next_words.h5\n",
            "1958/1958 [==============================] - 30s 15ms/step - loss: 0.4652\n",
            "Epoch 61/70\n",
            "1955/1958 [============================>.] - ETA: 0s - loss: 0.4616\n",
            "Epoch 61: loss improved from 0.46521 to 0.46170, saving model to next_words.h5\n",
            "1958/1958 [==============================] - 30s 15ms/step - loss: 0.4617\n",
            "Epoch 62/70\n",
            "1958/1958 [==============================] - ETA: 0s - loss: 0.4571\n",
            "Epoch 62: loss improved from 0.46170 to 0.45713, saving model to next_words.h5\n",
            "1958/1958 [==============================] - 30s 15ms/step - loss: 0.4571\n",
            "Epoch 63/70\n",
            "1958/1958 [==============================] - ETA: 0s - loss: 0.4589\n",
            "Epoch 63: loss did not improve from 0.45713\n",
            "1958/1958 [==============================] - 29s 15ms/step - loss: 0.4589\n",
            "Epoch 64/70\n",
            "1957/1958 [============================>.] - ETA: 0s - loss: 0.4535\n",
            "Epoch 64: loss improved from 0.45713 to 0.45346, saving model to next_words.h5\n",
            "1958/1958 [==============================] - 30s 15ms/step - loss: 0.4535\n",
            "Epoch 65/70\n",
            "1957/1958 [============================>.] - ETA: 0s - loss: 0.4482\n",
            "Epoch 65: loss improved from 0.45346 to 0.44816, saving model to next_words.h5\n",
            "1958/1958 [==============================] - 30s 15ms/step - loss: 0.4482\n",
            "Epoch 66/70\n",
            "1957/1958 [============================>.] - ETA: 0s - loss: 0.4508\n",
            "Epoch 66: loss did not improve from 0.44816\n",
            "1958/1958 [==============================] - 29s 15ms/step - loss: 0.4508\n",
            "Epoch 67/70\n",
            "1955/1958 [============================>.] - ETA: 0s - loss: 0.4438\n",
            "Epoch 67: loss improved from 0.44816 to 0.44383, saving model to next_words.h5\n",
            "1958/1958 [==============================] - 30s 15ms/step - loss: 0.4438\n",
            "Epoch 68/70\n",
            "1958/1958 [==============================] - ETA: 0s - loss: 0.4428\n",
            "Epoch 68: loss improved from 0.44383 to 0.44283, saving model to next_words.h5\n",
            "1958/1958 [==============================] - 30s 15ms/step - loss: 0.4428\n",
            "Epoch 69/70\n",
            "1956/1958 [============================>.] - ETA: 0s - loss: 0.4409\n",
            "Epoch 69: loss improved from 0.44283 to 0.44093, saving model to next_words.h5\n",
            "1958/1958 [==============================] - 30s 15ms/step - loss: 0.4409\n",
            "Epoch 70/70\n",
            "1956/1958 [============================>.] - ETA: 0s - loss: 0.4383\n",
            "Epoch 70: loss improved from 0.44093 to 0.43848, saving model to next_words.h5\n",
            "1958/1958 [==============================] - 30s 15ms/step - loss: 0.4385\n"
          ]
        },
        {
          "output_type": "execute_result",
          "data": {
            "text/plain": [
              "<keras.callbacks.History at 0x7fb525d0cfd0>"
            ]
          },
          "metadata": {},
          "execution_count": 16
        }
      ]
    },
    {
      "cell_type": "code",
      "source": [
        "from tensorflow.keras.models import load_model\n",
        "import numpy as np\n",
        "import pickle\n",
        "\n",
        "# Load the model and tokenizer\n",
        "model = load_model('next_words.h5')\n",
        "tokenizer = pickle.load(open('token.pkl', 'rb'))\n",
        "\n",
        "def Predict_Next_Words(model, tokenizer, text):\n",
        "\n",
        "  sequence = tokenizer.texts_to_sequences([text])\n",
        "  sequence = np.array(sequence)\n",
        "  preds = np.argmax(model.predict(sequence))\n",
        "  predicted_word = \"\"\n",
        "  \n",
        "  for key, value in tokenizer.word_index.items():\n",
        "      if value == preds:\n",
        "          predicted_word = key\n",
        "          break\n",
        "  \n",
        "  print(predicted_word)\n",
        "  return predicted_word"
      ],
      "metadata": {
        "id": "4jW6Wm0K6u1d"
      },
      "execution_count": 17,
      "outputs": []
    },
    {
      "cell_type": "code",
      "source": [
        "while(True):\n",
        "  text = input(\"Enter your line: \")\n",
        "  \n",
        "  if text == \"0\":\n",
        "      print(\"Execution completed.....\")\n",
        "      break\n",
        "  \n",
        "  else:\n",
        "      try:\n",
        "          text = text.split(\" \")\n",
        "          text = text[-3:]\n",
        "          print(text)\n",
        "        \n",
        "          Predict_Next_Words(model, tokenizer, text)\n",
        "          \n",
        "      except Exception as e:\n",
        "        print(\"Error occurred: \",e)\n",
        "        continue"
      ],
      "metadata": {
        "id": "DZiTgKOA6u-N",
        "colab": {
          "base_uri": "https://localhost:8080/",
          "height": 640
        },
        "outputId": "dddccf92-6d64-4727-9544-fc0b5a4cdb5c"
      },
      "execution_count": 19,
      "outputs": [
        {
          "output_type": "stream",
          "name": "stdout",
          "text": [
            "Enter your line: This eBook is\n",
            "['This', 'eBook', 'is']\n",
            "for\n",
            "Enter your line: anywhere in the\n",
            "['anywhere', 'in', 'the']\n",
            "united\n"
          ]
        },
        {
          "output_type": "error",
          "ename": "KeyboardInterrupt",
          "evalue": "ignored",
          "traceback": [
            "\u001b[0;31m---------------------------------------------------------------------------\u001b[0m",
            "\u001b[0;31mKeyboardInterrupt\u001b[0m                         Traceback (most recent call last)",
            "\u001b[0;32m/usr/local/lib/python3.7/dist-packages/ipykernel/kernelbase.py\u001b[0m in \u001b[0;36m_input_request\u001b[0;34m(self, prompt, ident, parent, password)\u001b[0m\n\u001b[1;32m    728\u001b[0m             \u001b[0;32mtry\u001b[0m\u001b[0;34m:\u001b[0m\u001b[0;34m\u001b[0m\u001b[0;34m\u001b[0m\u001b[0m\n\u001b[0;32m--> 729\u001b[0;31m                 \u001b[0mident\u001b[0m\u001b[0;34m,\u001b[0m \u001b[0mreply\u001b[0m \u001b[0;34m=\u001b[0m \u001b[0mself\u001b[0m\u001b[0;34m.\u001b[0m\u001b[0msession\u001b[0m\u001b[0;34m.\u001b[0m\u001b[0mrecv\u001b[0m\u001b[0;34m(\u001b[0m\u001b[0mself\u001b[0m\u001b[0;34m.\u001b[0m\u001b[0mstdin_socket\u001b[0m\u001b[0;34m,\u001b[0m \u001b[0;36m0\u001b[0m\u001b[0;34m)\u001b[0m\u001b[0;34m\u001b[0m\u001b[0;34m\u001b[0m\u001b[0m\n\u001b[0m\u001b[1;32m    730\u001b[0m             \u001b[0;32mexcept\u001b[0m \u001b[0mException\u001b[0m\u001b[0;34m:\u001b[0m\u001b[0;34m\u001b[0m\u001b[0;34m\u001b[0m\u001b[0m\n",
            "\u001b[0;32m/usr/local/lib/python3.7/dist-packages/jupyter_client/session.py\u001b[0m in \u001b[0;36mrecv\u001b[0;34m(self, socket, mode, content, copy)\u001b[0m\n\u001b[1;32m    802\u001b[0m         \u001b[0;32mtry\u001b[0m\u001b[0;34m:\u001b[0m\u001b[0;34m\u001b[0m\u001b[0;34m\u001b[0m\u001b[0m\n\u001b[0;32m--> 803\u001b[0;31m             \u001b[0mmsg_list\u001b[0m \u001b[0;34m=\u001b[0m \u001b[0msocket\u001b[0m\u001b[0;34m.\u001b[0m\u001b[0mrecv_multipart\u001b[0m\u001b[0;34m(\u001b[0m\u001b[0mmode\u001b[0m\u001b[0;34m,\u001b[0m \u001b[0mcopy\u001b[0m\u001b[0;34m=\u001b[0m\u001b[0mcopy\u001b[0m\u001b[0;34m)\u001b[0m\u001b[0;34m\u001b[0m\u001b[0;34m\u001b[0m\u001b[0m\n\u001b[0m\u001b[1;32m    804\u001b[0m         \u001b[0;32mexcept\u001b[0m \u001b[0mzmq\u001b[0m\u001b[0;34m.\u001b[0m\u001b[0mZMQError\u001b[0m \u001b[0;32mas\u001b[0m \u001b[0me\u001b[0m\u001b[0;34m:\u001b[0m\u001b[0;34m\u001b[0m\u001b[0;34m\u001b[0m\u001b[0m\n",
            "\u001b[0;32m/usr/local/lib/python3.7/dist-packages/zmq/sugar/socket.py\u001b[0m in \u001b[0;36mrecv_multipart\u001b[0;34m(self, flags, copy, track)\u001b[0m\n\u001b[1;32m    726\u001b[0m         \"\"\"\n\u001b[0;32m--> 727\u001b[0;31m         \u001b[0mparts\u001b[0m \u001b[0;34m=\u001b[0m \u001b[0;34m[\u001b[0m\u001b[0mself\u001b[0m\u001b[0;34m.\u001b[0m\u001b[0mrecv\u001b[0m\u001b[0;34m(\u001b[0m\u001b[0mflags\u001b[0m\u001b[0;34m,\u001b[0m \u001b[0mcopy\u001b[0m\u001b[0;34m=\u001b[0m\u001b[0mcopy\u001b[0m\u001b[0;34m,\u001b[0m \u001b[0mtrack\u001b[0m\u001b[0;34m=\u001b[0m\u001b[0mtrack\u001b[0m\u001b[0;34m)\u001b[0m\u001b[0;34m]\u001b[0m\u001b[0;34m\u001b[0m\u001b[0;34m\u001b[0m\u001b[0m\n\u001b[0m\u001b[1;32m    728\u001b[0m         \u001b[0;31m# have first part already, only loop while more to receive\u001b[0m\u001b[0;34m\u001b[0m\u001b[0;34m\u001b[0m\u001b[0;34m\u001b[0m\u001b[0m\n",
            "\u001b[0;32mzmq/backend/cython/socket.pyx\u001b[0m in \u001b[0;36mzmq.backend.cython.socket.Socket.recv\u001b[0;34m()\u001b[0m\n",
            "\u001b[0;32mzmq/backend/cython/socket.pyx\u001b[0m in \u001b[0;36mzmq.backend.cython.socket.Socket.recv\u001b[0;34m()\u001b[0m\n",
            "\u001b[0;32mzmq/backend/cython/socket.pyx\u001b[0m in \u001b[0;36mzmq.backend.cython.socket._recv_copy\u001b[0;34m()\u001b[0m\n",
            "\u001b[0;32m/usr/local/lib/python3.7/dist-packages/zmq/backend/cython/checkrc.pxd\u001b[0m in \u001b[0;36mzmq.backend.cython.checkrc._check_rc\u001b[0;34m()\u001b[0m\n",
            "\u001b[0;31mKeyboardInterrupt\u001b[0m: ",
            "\nDuring handling of the above exception, another exception occurred:\n",
            "\u001b[0;31mKeyboardInterrupt\u001b[0m                         Traceback (most recent call last)",
            "\u001b[0;32m<ipython-input-19-10cbba31caae>\u001b[0m in \u001b[0;36m<module>\u001b[0;34m()\u001b[0m\n\u001b[1;32m      1\u001b[0m \u001b[0;32mwhile\u001b[0m\u001b[0;34m(\u001b[0m\u001b[0;32mTrue\u001b[0m\u001b[0;34m)\u001b[0m\u001b[0;34m:\u001b[0m\u001b[0;34m\u001b[0m\u001b[0;34m\u001b[0m\u001b[0m\n\u001b[0;32m----> 2\u001b[0;31m   \u001b[0mtext\u001b[0m \u001b[0;34m=\u001b[0m \u001b[0minput\u001b[0m\u001b[0;34m(\u001b[0m\u001b[0;34m\"Enter your line: \"\u001b[0m\u001b[0;34m)\u001b[0m\u001b[0;34m\u001b[0m\u001b[0;34m\u001b[0m\u001b[0m\n\u001b[0m\u001b[1;32m      3\u001b[0m \u001b[0;34m\u001b[0m\u001b[0m\n\u001b[1;32m      4\u001b[0m   \u001b[0;32mif\u001b[0m \u001b[0mtext\u001b[0m \u001b[0;34m==\u001b[0m \u001b[0;34m\"0\"\u001b[0m\u001b[0;34m:\u001b[0m\u001b[0;34m\u001b[0m\u001b[0;34m\u001b[0m\u001b[0m\n\u001b[1;32m      5\u001b[0m       \u001b[0mprint\u001b[0m\u001b[0;34m(\u001b[0m\u001b[0;34m\"Execution completed.....\"\u001b[0m\u001b[0;34m)\u001b[0m\u001b[0;34m\u001b[0m\u001b[0;34m\u001b[0m\u001b[0m\n",
            "\u001b[0;32m/usr/local/lib/python3.7/dist-packages/ipykernel/kernelbase.py\u001b[0m in \u001b[0;36mraw_input\u001b[0;34m(self, prompt)\u001b[0m\n\u001b[1;32m    702\u001b[0m             \u001b[0mself\u001b[0m\u001b[0;34m.\u001b[0m\u001b[0m_parent_ident\u001b[0m\u001b[0;34m,\u001b[0m\u001b[0;34m\u001b[0m\u001b[0;34m\u001b[0m\u001b[0m\n\u001b[1;32m    703\u001b[0m             \u001b[0mself\u001b[0m\u001b[0;34m.\u001b[0m\u001b[0m_parent_header\u001b[0m\u001b[0;34m,\u001b[0m\u001b[0;34m\u001b[0m\u001b[0;34m\u001b[0m\u001b[0m\n\u001b[0;32m--> 704\u001b[0;31m             \u001b[0mpassword\u001b[0m\u001b[0;34m=\u001b[0m\u001b[0;32mFalse\u001b[0m\u001b[0;34m,\u001b[0m\u001b[0;34m\u001b[0m\u001b[0;34m\u001b[0m\u001b[0m\n\u001b[0m\u001b[1;32m    705\u001b[0m         )\n\u001b[1;32m    706\u001b[0m \u001b[0;34m\u001b[0m\u001b[0m\n",
            "\u001b[0;32m/usr/local/lib/python3.7/dist-packages/ipykernel/kernelbase.py\u001b[0m in \u001b[0;36m_input_request\u001b[0;34m(self, prompt, ident, parent, password)\u001b[0m\n\u001b[1;32m    732\u001b[0m             \u001b[0;32mexcept\u001b[0m \u001b[0mKeyboardInterrupt\u001b[0m\u001b[0;34m:\u001b[0m\u001b[0;34m\u001b[0m\u001b[0;34m\u001b[0m\u001b[0m\n\u001b[1;32m    733\u001b[0m                 \u001b[0;31m# re-raise KeyboardInterrupt, to truncate traceback\u001b[0m\u001b[0;34m\u001b[0m\u001b[0;34m\u001b[0m\u001b[0;34m\u001b[0m\u001b[0m\n\u001b[0;32m--> 734\u001b[0;31m                 \u001b[0;32mraise\u001b[0m \u001b[0mKeyboardInterrupt\u001b[0m\u001b[0;34m\u001b[0m\u001b[0;34m\u001b[0m\u001b[0m\n\u001b[0m\u001b[1;32m    735\u001b[0m             \u001b[0;32melse\u001b[0m\u001b[0;34m:\u001b[0m\u001b[0;34m\u001b[0m\u001b[0;34m\u001b[0m\u001b[0m\n\u001b[1;32m    736\u001b[0m                 \u001b[0;32mbreak\u001b[0m\u001b[0;34m\u001b[0m\u001b[0;34m\u001b[0m\u001b[0m\n",
            "\u001b[0;31mKeyboardInterrupt\u001b[0m: "
          ]
        }
      ]
    },
    {
      "cell_type": "code",
      "source": [
        ""
      ],
      "metadata": {
        "id": "QciPDJ3M6vHT"
      },
      "execution_count": null,
      "outputs": []
    },
    {
      "cell_type": "code",
      "source": [
        ""
      ],
      "metadata": {
        "id": "UBKldc0p6vRO"
      },
      "execution_count": null,
      "outputs": []
    }
  ]
}