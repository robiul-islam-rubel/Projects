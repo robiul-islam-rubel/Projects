{
  "nbformat": 4,
  "nbformat_minor": 0,
  "metadata": {
    "colab": {
      "name": "Bangla_Next_Word_Using_LSTM",
      "provenance": [],
      "authorship_tag": "ABX9TyPGnWX1NhiwidbaxMoCn1FB",
      "include_colab_link": true
    },
    "kernelspec": {
      "name": "python3",
      "display_name": "Python 3"
    },
    "language_info": {
      "name": "python"
    },
    "accelerator": "GPU",
    "gpuClass": "standard"
  },
  "cells": [
    {
      "cell_type": "markdown",
      "metadata": {
        "id": "view-in-github",
        "colab_type": "text"
      },
      "source": [
        "<a href=\"https://colab.research.google.com/github/rubel-47/Projects/blob/main/Bangla_Next_Word_Using_LSTM.ipynb\" target=\"_parent\"><img src=\"https://colab.research.google.com/assets/colab-badge.svg\" alt=\"Open In Colab\"/></a>"
      ]
    },
    {
      "cell_type": "code",
      "execution_count": 3,
      "metadata": {
        "id": "_aH-j6r3XYp8"
      },
      "outputs": [],
      "source": [
        "import tensorflow as tf\n",
        "from tensorflow.keras.preprocessing.text import Tokenizer\n",
        "from tensorflow.keras.layers import Embedding, LSTM, Dense\n",
        "from tensorflow.keras.models import Sequential\n",
        "from tensorflow.keras.utils import to_categorical\n",
        "from tensorflow.keras.optimizers import Adam\n",
        "import pickle\n",
        "import numpy as np\n",
        "import os"
      ]
    },
    {
      "cell_type": "code",
      "source": [
        "from google.colab import files\n",
        "uploaded = files.upload()"
      ],
      "metadata": {
        "colab": {
          "resources": {
            "http://localhost:8080/nbextensions/google.colab/files.js": {
              "data": "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",
              "ok": true,
              "headers": [
                [
                  "content-type",
                  "application/javascript"
                ]
              ],
              "status": 200,
              "status_text": ""
            }
          },
          "base_uri": "https://localhost:8080/",
          "height": 74
        },
        "id": "_eFutjsRXjy6",
        "outputId": "91f46867-e27a-41bf-9cbf-257de2a63abb"
      },
      "execution_count": 5,
      "outputs": [
        {
          "output_type": "display_data",
          "data": {
            "text/plain": [
              "<IPython.core.display.HTML object>"
            ],
            "text/html": [
              "\n",
              "     <input type=\"file\" id=\"files-bf84a59d-bbc8-42a0-afbb-d667aca407e2\" name=\"files[]\" multiple disabled\n",
              "        style=\"border:none\" />\n",
              "     <output id=\"result-bf84a59d-bbc8-42a0-afbb-d667aca407e2\">\n",
              "      Upload widget is only available when the cell has been executed in the\n",
              "      current browser session. Please rerun this cell to enable.\n",
              "      </output>\n",
              "      <script src=\"/nbextensions/google.colab/files.js\"></script> "
            ]
          },
          "metadata": {}
        },
        {
          "output_type": "stream",
          "name": "stdout",
          "text": [
            "Saving Bangla.txt to Bangla.txt\n"
          ]
        }
      ]
    },
    {
      "cell_type": "code",
      "source": [
        " file = open(\"Bangla.txt\", \"r\", encoding = \"utf8\")\n",
        "\n",
        "# store file in list\n",
        "lines = []\n",
        "for i in file:\n",
        "    lines.append(i)\n",
        "\n",
        "# Convert list to string\n",
        "data = \"\"\n",
        "for i in lines:\n",
        "  data = ' '. join(lines) \n",
        "\n",
        "#replace unnecessary stuff with space\n",
        "data = data.replace('\\n', '').replace('\\r', '').replace('\\ufeff', '').replace('“','').replace('”','')  #new line, carriage return, unicode character --> replace by space\n",
        "\n",
        "#remove unnecessary spaces \n",
        "data = data.split()\n",
        "data = ' '.join(data)\n",
        "data[:500]"
      ],
      "metadata": {
        "colab": {
          "base_uri": "https://localhost:8080/",
          "height": 70
        },
        "id": "E3gJnMpaXj7a",
        "outputId": "bafbd6cc-66d5-4989-e46b-cae0f1f3aba4"
      },
      "execution_count": 6,
      "outputs": [
        {
          "output_type": "execute_result",
          "data": {
            "text/plain": [
              "'প্রকল্পসংশ্লিষ্ট সূত্রে জানা গেছে, শুরুতে কমিউনিটি মেডিকেল কলেজ অ্যান্ড হাসপাতালের ১২ কাঠা জমিতে ছয়তলা ভবন করার সিদ্ধান্ত হয়। কিন্তু একাধিকবার প্রকল্প পরিচালক পাল্টায়। মাঝখানে অনেক দিন কোনো প্রকল্প পরিচালক ছিলেন না। কয়েক দফা বৈঠকের পর মূল্যবান জমি বিবেচনায় ভবনের উচ্চতা বাড়িয়ে ৯তলা করার সিদ্ধান্ত হয়। এর ফলে নকশা প্রণয়ন ও খরচ পুনর্নির্ধারণসহ নানা পরিবর্তন আনা হয়। খরচ আগের চেয়ে বেড়ে ২২ কোটি ১২ লাখ ২৬ হাজার টাকায় দাঁড়ায়। একাধিকবার প্রকল্পটি নিয়ে দুই পক্ষের মতের অমিল হয়। শেষ পর্যন্ত নির্মাণকাজ নিয়ে দ'"
            ],
            "application/vnd.google.colaboratory.intrinsic+json": {
              "type": "string"
            }
          },
          "metadata": {},
          "execution_count": 6
        }
      ]
    },
    {
      "cell_type": "code",
      "source": [
        "len(data)"
      ],
      "metadata": {
        "colab": {
          "base_uri": "https://localhost:8080/"
        },
        "id": "Z3IPXEg9XkDZ",
        "outputId": "217d9191-5e30-493a-96a9-e3c6b0d86bce"
      },
      "execution_count": 7,
      "outputs": [
        {
          "output_type": "execute_result",
          "data": {
            "text/plain": [
              "4503"
            ]
          },
          "metadata": {},
          "execution_count": 7
        }
      ]
    },
    {
      "cell_type": "code",
      "source": [
        "tokenizer = Tokenizer()\n",
        "tokenizer.fit_on_texts([data])\n",
        "\n",
        "# saving the tokenizer for predict function\n",
        "pickle.dump(tokenizer, open('token.pkl', 'wb'))\n",
        "\n",
        "sequence_data = tokenizer.texts_to_sequences([data])[0]\n",
        "sequence_data[:15]"
      ],
      "metadata": {
        "colab": {
          "base_uri": "https://localhost:8080/"
        },
        "id": "UlYjUVOuXkK_",
        "outputId": "898e43c6-fc33-4407-df2b-9b75b918d9fa"
      },
      "execution_count": 8,
      "outputs": [
        {
          "output_type": "execute_result",
          "data": {
            "text/plain": [
              "[162, 163, 164, 165, 166, 53, 54, 13, 55, 14, 56, 167, 168, 169, 27]"
            ]
          },
          "metadata": {},
          "execution_count": 8
        }
      ]
    },
    {
      "cell_type": "code",
      "source": [
        "len(sequence_data)"
      ],
      "metadata": {
        "colab": {
          "base_uri": "https://localhost:8080/"
        },
        "id": "rrP72NC2XkS8",
        "outputId": "3422fe6c-6c7c-4caa-aed1-17ad1742fc79"
      },
      "execution_count": 6,
      "outputs": [
        {
          "output_type": "execute_result",
          "data": {
            "text/plain": [
              "689"
            ]
          },
          "metadata": {},
          "execution_count": 6
        }
      ]
    },
    {
      "cell_type": "code",
      "source": [
        "vocab_size = len(tokenizer.word_index) + 1\n",
        "print(vocab_size)"
      ],
      "metadata": {
        "colab": {
          "base_uri": "https://localhost:8080/"
        },
        "id": "qSlfTOYTYCTV",
        "outputId": "470e2d34-c1ee-4b4e-d714-62697e85621f"
      },
      "execution_count": 9,
      "outputs": [
        {
          "output_type": "stream",
          "name": "stdout",
          "text": [
            "422\n"
          ]
        }
      ]
    },
    {
      "cell_type": "code",
      "source": [
        "sequences = []\n",
        "\n",
        "for i in range(3, len(sequence_data)):\n",
        "    words = sequence_data[i-3:i+1]\n",
        "    sequences.append(words)\n",
        "    \n",
        "print(\"The Length of sequences are: \", len(sequences))\n",
        "sequences = np.array(sequences)\n",
        "sequences[:10]"
      ],
      "metadata": {
        "colab": {
          "base_uri": "https://localhost:8080/"
        },
        "id": "tBvWS0LWYCjc",
        "outputId": "b2c1279b-7ffc-499d-d636-bab90c6ed963"
      },
      "execution_count": 10,
      "outputs": [
        {
          "output_type": "stream",
          "name": "stdout",
          "text": [
            "The Length of sequences are:  686\n"
          ]
        },
        {
          "output_type": "execute_result",
          "data": {
            "text/plain": [
              "array([[162, 163, 164, 165],\n",
              "       [163, 164, 165, 166],\n",
              "       [164, 165, 166,  53],\n",
              "       [165, 166,  53,  54],\n",
              "       [166,  53,  54,  13],\n",
              "       [ 53,  54,  13,  55],\n",
              "       [ 54,  13,  55,  14],\n",
              "       [ 13,  55,  14,  56],\n",
              "       [ 55,  14,  56, 167],\n",
              "       [ 14,  56, 167, 168]])"
            ]
          },
          "metadata": {},
          "execution_count": 10
        }
      ]
    },
    {
      "cell_type": "code",
      "source": [
        "X = []\n",
        "y = []\n",
        "\n",
        "for i in sequences:\n",
        "    X.append(i[0:3])\n",
        "    y.append(i[3])\n",
        "    \n",
        "X = np.array(X)\n",
        "y = np.array(y)"
      ],
      "metadata": {
        "id": "9R60VXSTYCtN"
      },
      "execution_count": 11,
      "outputs": []
    },
    {
      "cell_type": "code",
      "source": [
        "y = to_categorical(y, num_classes=vocab_size)\n",
        "y[:5]"
      ],
      "metadata": {
        "colab": {
          "base_uri": "https://localhost:8080/"
        },
        "id": "Fd9mz9G3YC1X",
        "outputId": "e456a48a-b32e-43bf-902e-07612e029c5f"
      },
      "execution_count": 12,
      "outputs": [
        {
          "output_type": "execute_result",
          "data": {
            "text/plain": [
              "array([[0., 0., 0., ..., 0., 0., 0.],\n",
              "       [0., 0., 0., ..., 0., 0., 0.],\n",
              "       [0., 0., 0., ..., 0., 0., 0.],\n",
              "       [0., 0., 0., ..., 0., 0., 0.],\n",
              "       [0., 0., 0., ..., 0., 0., 0.]], dtype=float32)"
            ]
          },
          "metadata": {},
          "execution_count": 12
        }
      ]
    },
    {
      "cell_type": "code",
      "source": [
        "model = Sequential()\n",
        "model.add(Embedding(vocab_size, 10, input_length=3))\n",
        "model.add(LSTM(1000, return_sequences=True))\n",
        "model.add(LSTM(1000))\n",
        "model.add(Dense(1000, activation=\"relu\"))\n",
        "model.add(Dense(vocab_size, activation=\"softmax\"))"
      ],
      "metadata": {
        "id": "uJYu6723YC9d"
      },
      "execution_count": 13,
      "outputs": []
    },
    {
      "cell_type": "code",
      "source": [
        "model.summary()"
      ],
      "metadata": {
        "colab": {
          "base_uri": "https://localhost:8080/"
        },
        "id": "uY61wjMkXkab",
        "outputId": "833a19d2-c636-4df5-912d-0374eeb86040"
      },
      "execution_count": 14,
      "outputs": [
        {
          "output_type": "stream",
          "name": "stdout",
          "text": [
            "Model: \"sequential\"\n",
            "_________________________________________________________________\n",
            " Layer (type)                Output Shape              Param #   \n",
            "=================================================================\n",
            " embedding (Embedding)       (None, 3, 10)             4220      \n",
            "                                                                 \n",
            " lstm (LSTM)                 (None, 3, 1000)           4044000   \n",
            "                                                                 \n",
            " lstm_1 (LSTM)               (None, 1000)              8004000   \n",
            "                                                                 \n",
            " dense (Dense)               (None, 1000)              1001000   \n",
            "                                                                 \n",
            " dense_1 (Dense)             (None, 422)               422422    \n",
            "                                                                 \n",
            "=================================================================\n",
            "Total params: 13,475,642\n",
            "Trainable params: 13,475,642\n",
            "Non-trainable params: 0\n",
            "_________________________________________________________________\n"
          ]
        }
      ]
    },
    {
      "cell_type": "code",
      "source": [
        "from tensorflow.keras.callbacks import ModelCheckpoint\n",
        "\n",
        "checkpoint = ModelCheckpoint(\"next_words.h5\", monitor='loss', verbose=1, save_best_only=True)\n",
        "model.compile(loss=\"categorical_crossentropy\", optimizer=Adam(learning_rate=0.001))\n",
        "model.fit(X, y, epochs=70, batch_size=64, callbacks=[checkpoint])"
      ],
      "metadata": {
        "colab": {
          "base_uri": "https://localhost:8080/"
        },
        "id": "eFLgPytHXkj2",
        "outputId": "606c9ab6-3c18-48ab-bd98-1bb671240935"
      },
      "execution_count": 15,
      "outputs": [
        {
          "output_type": "stream",
          "name": "stdout",
          "text": [
            "Epoch 1/70\n",
            "11/11 [==============================] - ETA: 0s - loss: 6.0468\n",
            "Epoch 1: loss improved from inf to 6.04682, saving model to next_words.h5\n",
            "11/11 [==============================] - 8s 46ms/step - loss: 6.0468\n",
            "Epoch 2/70\n",
            " 9/11 [=======================>......] - ETA: 0s - loss: 6.0203\n",
            "Epoch 2: loss improved from 6.04682 to 6.02151, saving model to next_words.h5\n",
            "11/11 [==============================] - 1s 53ms/step - loss: 6.0215\n",
            "Epoch 3/70\n",
            " 9/11 [=======================>......] - ETA: 0s - loss: 5.9323\n",
            "Epoch 3: loss improved from 6.02151 to 5.94573, saving model to next_words.h5\n",
            "11/11 [==============================] - 0s 48ms/step - loss: 5.9457\n",
            "Epoch 4/70\n",
            " 9/11 [=======================>......] - ETA: 0s - loss: 5.9160\n",
            "Epoch 4: loss improved from 5.94573 to 5.89260, saving model to next_words.h5\n",
            "11/11 [==============================] - 1s 59ms/step - loss: 5.8926\n",
            "Epoch 5/70\n",
            "10/11 [==========================>...] - ETA: 0s - loss: 5.7763\n",
            "Epoch 5: loss improved from 5.89260 to 5.77761, saving model to next_words.h5\n",
            "11/11 [==============================] - 1s 126ms/step - loss: 5.7776\n",
            "Epoch 6/70\n",
            " 9/11 [=======================>......] - ETA: 0s - loss: 5.6354\n",
            "Epoch 6: loss improved from 5.77761 to 5.64625, saving model to next_words.h5\n",
            "11/11 [==============================] - 0s 48ms/step - loss: 5.6462\n",
            "Epoch 7/70\n",
            "11/11 [==============================] - ETA: 0s - loss: 5.4570\n",
            "Epoch 7: loss improved from 5.64625 to 5.45702, saving model to next_words.h5\n",
            "11/11 [==============================] - 0s 45ms/step - loss: 5.4570\n",
            "Epoch 8/70\n",
            "10/11 [==========================>...] - ETA: 0s - loss: 5.3465\n",
            "Epoch 8: loss improved from 5.45702 to 5.34785, saving model to next_words.h5\n",
            "11/11 [==============================] - 1s 52ms/step - loss: 5.3479\n",
            "Epoch 9/70\n",
            "10/11 [==========================>...] - ETA: 0s - loss: 5.2501\n",
            "Epoch 9: loss improved from 5.34785 to 5.26254, saving model to next_words.h5\n",
            "11/11 [==============================] - 1s 66ms/step - loss: 5.2625\n",
            "Epoch 10/70\n",
            "10/11 [==========================>...] - ETA: 0s - loss: 5.1900\n",
            "Epoch 10: loss improved from 5.26254 to 5.19754, saving model to next_words.h5\n",
            "11/11 [==============================] - 0s 45ms/step - loss: 5.1975\n",
            "Epoch 11/70\n",
            "11/11 [==============================] - ETA: 0s - loss: 5.1203\n",
            "Epoch 11: loss improved from 5.19754 to 5.12030, saving model to next_words.h5\n",
            "11/11 [==============================] - 1s 81ms/step - loss: 5.1203\n",
            "Epoch 12/70\n",
            " 9/11 [=======================>......] - ETA: 0s - loss: 4.9156\n",
            "Epoch 12: loss improved from 5.12030 to 4.94134, saving model to next_words.h5\n",
            "11/11 [==============================] - 1s 82ms/step - loss: 4.9413\n",
            "Epoch 13/70\n",
            " 9/11 [=======================>......] - ETA: 0s - loss: 4.6545\n",
            "Epoch 13: loss improved from 4.94134 to 4.66831, saving model to next_words.h5\n",
            "11/11 [==============================] - 1s 62ms/step - loss: 4.6683\n",
            "Epoch 14/70\n",
            "11/11 [==============================] - ETA: 0s - loss: 4.2851\n",
            "Epoch 14: loss improved from 4.66831 to 4.28509, saving model to next_words.h5\n",
            "11/11 [==============================] - 1s 68ms/step - loss: 4.2851\n",
            "Epoch 15/70\n",
            "10/11 [==========================>...] - ETA: 0s - loss: 3.9499\n",
            "Epoch 15: loss improved from 4.28509 to 3.98175, saving model to next_words.h5\n",
            "11/11 [==============================] - 0s 45ms/step - loss: 3.9817\n",
            "Epoch 16/70\n",
            "10/11 [==========================>...] - ETA: 0s - loss: 3.6224\n",
            "Epoch 16: loss improved from 3.98175 to 3.65592, saving model to next_words.h5\n",
            "11/11 [==============================] - 0s 44ms/step - loss: 3.6559\n",
            "Epoch 17/70\n",
            "10/11 [==========================>...] - ETA: 0s - loss: 3.3397\n",
            "Epoch 17: loss improved from 3.65592 to 3.38726, saving model to next_words.h5\n",
            "11/11 [==============================] - 1s 91ms/step - loss: 3.3873\n",
            "Epoch 18/70\n",
            "11/11 [==============================] - ETA: 0s - loss: 3.0842\n",
            "Epoch 18: loss improved from 3.38726 to 3.08423, saving model to next_words.h5\n",
            "11/11 [==============================] - 1s 50ms/step - loss: 3.0842\n",
            "Epoch 19/70\n",
            "10/11 [==========================>...] - ETA: 0s - loss: 2.7080\n",
            "Epoch 19: loss improved from 3.08423 to 2.73344, saving model to next_words.h5\n",
            "11/11 [==============================] - 1s 50ms/step - loss: 2.7334\n",
            "Epoch 20/70\n",
            " 9/11 [=======================>......] - ETA: 0s - loss: 2.3316\n",
            "Epoch 20: loss improved from 2.73344 to 2.40436, saving model to next_words.h5\n",
            "11/11 [==============================] - 1s 88ms/step - loss: 2.4044\n",
            "Epoch 21/70\n",
            "11/11 [==============================] - ETA: 0s - loss: 2.1490\n",
            "Epoch 21: loss improved from 2.40436 to 2.14900, saving model to next_words.h5\n",
            "11/11 [==============================] - 1s 82ms/step - loss: 2.1490\n",
            "Epoch 22/70\n",
            "11/11 [==============================] - ETA: 0s - loss: 1.9473\n",
            "Epoch 22: loss improved from 2.14900 to 1.94735, saving model to next_words.h5\n",
            "11/11 [==============================] - 0s 45ms/step - loss: 1.9473\n",
            "Epoch 23/70\n",
            "10/11 [==========================>...] - ETA: 0s - loss: 1.7278\n",
            "Epoch 23: loss improved from 1.94735 to 1.74716, saving model to next_words.h5\n",
            "11/11 [==============================] - 1s 64ms/step - loss: 1.7472\n",
            "Epoch 24/70\n",
            "10/11 [==========================>...] - ETA: 0s - loss: 1.5641\n",
            "Epoch 24: loss improved from 1.74716 to 1.59540, saving model to next_words.h5\n",
            "11/11 [==============================] - 1s 55ms/step - loss: 1.5954\n",
            "Epoch 25/70\n",
            " 9/11 [=======================>......] - ETA: 0s - loss: 1.3446\n",
            "Epoch 25: loss improved from 1.59540 to 1.39124, saving model to next_words.h5\n",
            "11/11 [==============================] - 0s 47ms/step - loss: 1.3912\n",
            "Epoch 26/70\n",
            " 9/11 [=======================>......] - ETA: 0s - loss: 1.1230\n",
            "Epoch 26: loss improved from 1.39124 to 1.16090, saving model to next_words.h5\n",
            "11/11 [==============================] - 1s 81ms/step - loss: 1.1609\n",
            "Epoch 27/70\n",
            " 9/11 [=======================>......] - ETA: 0s - loss: 0.9694\n",
            "Epoch 27: loss improved from 1.16090 to 0.97361, saving model to next_words.h5\n",
            "11/11 [==============================] - 1s 53ms/step - loss: 0.9736\n",
            "Epoch 28/70\n",
            " 9/11 [=======================>......] - ETA: 0s - loss: 0.8977\n",
            "Epoch 28: loss improved from 0.97361 to 0.90566, saving model to next_words.h5\n",
            "11/11 [==============================] - 1s 113ms/step - loss: 0.9057\n",
            "Epoch 29/70\n",
            "11/11 [==============================] - ETA: 0s - loss: 0.8998\n",
            "Epoch 29: loss improved from 0.90566 to 0.89976, saving model to next_words.h5\n",
            "11/11 [==============================] - 0s 45ms/step - loss: 0.8998\n",
            "Epoch 30/70\n",
            " 9/11 [=======================>......] - ETA: 0s - loss: 0.8458\n",
            "Epoch 30: loss did not improve from 0.89976\n",
            "11/11 [==============================] - 0s 13ms/step - loss: 0.9416\n",
            "Epoch 31/70\n",
            "11/11 [==============================] - ETA: 0s - loss: 0.8117\n",
            "Epoch 31: loss improved from 0.89976 to 0.81173, saving model to next_words.h5\n",
            "11/11 [==============================] - 0s 45ms/step - loss: 0.8117\n",
            "Epoch 32/70\n",
            "11/11 [==============================] - ETA: 0s - loss: 0.7428\n",
            "Epoch 32: loss improved from 0.81173 to 0.74281, saving model to next_words.h5\n",
            "11/11 [==============================] - 0s 45ms/step - loss: 0.7428\n",
            "Epoch 33/70\n",
            "10/11 [==========================>...] - ETA: 0s - loss: 0.5917\n",
            "Epoch 33: loss improved from 0.74281 to 0.58317, saving model to next_words.h5\n",
            "11/11 [==============================] - 1s 84ms/step - loss: 0.5832\n",
            "Epoch 34/70\n",
            "11/11 [==============================] - ETA: 0s - loss: 0.5852\n",
            "Epoch 34: loss did not improve from 0.58317\n",
            "11/11 [==============================] - 0s 13ms/step - loss: 0.5852\n",
            "Epoch 35/70\n",
            " 9/11 [=======================>......] - ETA: 0s - loss: 0.6403\n",
            "Epoch 35: loss did not improve from 0.58317\n",
            "11/11 [==============================] - 0s 13ms/step - loss: 0.6621\n",
            "Epoch 36/70\n",
            " 9/11 [=======================>......] - ETA: 0s - loss: 0.5169\n",
            "Epoch 36: loss improved from 0.58317 to 0.53085, saving model to next_words.h5\n",
            "11/11 [==============================] - 0s 45ms/step - loss: 0.5308\n",
            "Epoch 37/70\n",
            "10/11 [==========================>...] - ETA: 0s - loss: 0.4794\n",
            "Epoch 37: loss improved from 0.53085 to 0.49524, saving model to next_words.h5\n",
            "11/11 [==============================] - 0s 44ms/step - loss: 0.4952\n",
            "Epoch 38/70\n",
            "10/11 [==========================>...] - ETA: 0s - loss: 0.4142\n",
            "Epoch 38: loss improved from 0.49524 to 0.41833, saving model to next_words.h5\n",
            "11/11 [==============================] - 1s 50ms/step - loss: 0.4183\n",
            "Epoch 39/70\n",
            "10/11 [==========================>...] - ETA: 0s - loss: 0.3819\n",
            "Epoch 39: loss improved from 0.41833 to 0.37309, saving model to next_words.h5\n",
            "11/11 [==============================] - 1s 106ms/step - loss: 0.3731\n",
            "Epoch 40/70\n",
            " 9/11 [=======================>......] - ETA: 0s - loss: 0.3007\n",
            "Epoch 40: loss improved from 0.37309 to 0.32096, saving model to next_words.h5\n",
            "11/11 [==============================] - 0s 47ms/step - loss: 0.3210\n",
            "Epoch 41/70\n",
            " 9/11 [=======================>......] - ETA: 0s - loss: 0.2747\n",
            "Epoch 41: loss improved from 0.32096 to 0.27961, saving model to next_words.h5\n",
            "11/11 [==============================] - 0s 46ms/step - loss: 0.2796\n",
            "Epoch 42/70\n",
            "11/11 [==============================] - ETA: 0s - loss: 0.2226\n",
            "Epoch 42: loss improved from 0.27961 to 0.22258, saving model to next_words.h5\n",
            "11/11 [==============================] - 1s 65ms/step - loss: 0.2226\n",
            "Epoch 43/70\n",
            "10/11 [==========================>...] - ETA: 0s - loss: 0.2338\n",
            "Epoch 43: loss did not improve from 0.22258\n",
            "11/11 [==============================] - 0s 13ms/step - loss: 0.2302\n",
            "Epoch 44/70\n",
            "10/11 [==========================>...] - ETA: 0s - loss: 0.2087\n",
            "Epoch 44: loss did not improve from 0.22258\n",
            "11/11 [==============================] - 0s 13ms/step - loss: 0.2280\n",
            "Epoch 45/70\n",
            "10/11 [==========================>...] - ETA: 0s - loss: 0.1934\n",
            "Epoch 45: loss improved from 0.22258 to 0.19393, saving model to next_words.h5\n",
            "11/11 [==============================] - 0s 46ms/step - loss: 0.1939\n",
            "Epoch 46/70\n",
            "10/11 [==========================>...] - ETA: 0s - loss: 0.1856\n",
            "Epoch 46: loss did not improve from 0.19393\n",
            "11/11 [==============================] - 0s 14ms/step - loss: 0.1988\n",
            "Epoch 47/70\n",
            "10/11 [==========================>...] - ETA: 0s - loss: 0.2148\n",
            "Epoch 47: loss did not improve from 0.19393\n",
            "11/11 [==============================] - 0s 13ms/step - loss: 0.2158\n",
            "Epoch 48/70\n",
            "11/11 [==============================] - ETA: 0s - loss: 0.2221\n",
            "Epoch 48: loss did not improve from 0.19393\n",
            "11/11 [==============================] - 0s 13ms/step - loss: 0.2221\n",
            "Epoch 49/70\n",
            "11/11 [==============================] - ETA: 0s - loss: 0.2618\n",
            "Epoch 49: loss did not improve from 0.19393\n",
            "11/11 [==============================] - 0s 12ms/step - loss: 0.2618\n",
            "Epoch 50/70\n",
            "11/11 [==============================] - ETA: 0s - loss: 0.2363\n",
            "Epoch 50: loss did not improve from 0.19393\n",
            "11/11 [==============================] - 0s 12ms/step - loss: 0.2363\n",
            "Epoch 51/70\n",
            "11/11 [==============================] - ETA: 0s - loss: 0.3057\n",
            "Epoch 51: loss did not improve from 0.19393\n",
            "11/11 [==============================] - 0s 12ms/step - loss: 0.3057\n",
            "Epoch 52/70\n",
            "11/11 [==============================] - ETA: 0s - loss: 0.4211\n",
            "Epoch 52: loss did not improve from 0.19393\n",
            "11/11 [==============================] - 0s 12ms/step - loss: 0.4211\n",
            "Epoch 53/70\n",
            "10/11 [==========================>...] - ETA: 0s - loss: 0.3887\n",
            "Epoch 53: loss did not improve from 0.19393\n",
            "11/11 [==============================] - 0s 13ms/step - loss: 0.3898\n",
            "Epoch 54/70\n",
            "11/11 [==============================] - ETA: 0s - loss: 0.3539\n",
            "Epoch 54: loss did not improve from 0.19393\n",
            "11/11 [==============================] - 0s 13ms/step - loss: 0.3539\n",
            "Epoch 55/70\n",
            "11/11 [==============================] - ETA: 0s - loss: 0.3066\n",
            "Epoch 55: loss did not improve from 0.19393\n",
            "11/11 [==============================] - 0s 13ms/step - loss: 0.3066\n",
            "Epoch 56/70\n",
            "10/11 [==========================>...] - ETA: 0s - loss: 0.2741\n",
            "Epoch 56: loss did not improve from 0.19393\n",
            "11/11 [==============================] - 0s 13ms/step - loss: 0.2957\n",
            "Epoch 57/70\n",
            "10/11 [==========================>...] - ETA: 0s - loss: 0.2565\n",
            "Epoch 57: loss did not improve from 0.19393\n",
            "11/11 [==============================] - 0s 12ms/step - loss: 0.2617\n",
            "Epoch 58/70\n",
            "10/11 [==========================>...] - ETA: 0s - loss: 0.2556\n",
            "Epoch 58: loss did not improve from 0.19393\n",
            "11/11 [==============================] - 0s 13ms/step - loss: 0.2719\n",
            "Epoch 59/70\n",
            "11/11 [==============================] - ETA: 0s - loss: 0.2213\n",
            "Epoch 59: loss did not improve from 0.19393\n",
            "11/11 [==============================] - 0s 12ms/step - loss: 0.2213\n",
            "Epoch 60/70\n",
            "10/11 [==========================>...] - ETA: 0s - loss: 0.2307\n",
            "Epoch 60: loss did not improve from 0.19393\n",
            "11/11 [==============================] - 0s 13ms/step - loss: 0.2202\n",
            "Epoch 61/70\n",
            " 9/11 [=======================>......] - ETA: 0s - loss: 0.2295\n",
            "Epoch 61: loss did not improve from 0.19393\n",
            "11/11 [==============================] - 0s 13ms/step - loss: 0.2363\n",
            "Epoch 62/70\n",
            "10/11 [==========================>...] - ETA: 0s - loss: 0.2155\n",
            "Epoch 62: loss did not improve from 0.19393\n",
            "11/11 [==============================] - 0s 13ms/step - loss: 0.2232\n",
            "Epoch 63/70\n",
            " 9/11 [=======================>......] - ETA: 0s - loss: 0.2359\n",
            "Epoch 63: loss did not improve from 0.19393\n",
            "11/11 [==============================] - 0s 13ms/step - loss: 0.2735\n",
            "Epoch 64/70\n",
            " 9/11 [=======================>......] - ETA: 0s - loss: 0.2421\n",
            "Epoch 64: loss did not improve from 0.19393\n",
            "11/11 [==============================] - 0s 13ms/step - loss: 0.2674\n",
            "Epoch 65/70\n",
            "11/11 [==============================] - ETA: 0s - loss: 0.2500\n",
            "Epoch 65: loss did not improve from 0.19393\n",
            "11/11 [==============================] - 0s 13ms/step - loss: 0.2500\n",
            "Epoch 66/70\n",
            "10/11 [==========================>...] - ETA: 0s - loss: 0.1851\n",
            "Epoch 66: loss improved from 0.19393 to 0.19117, saving model to next_words.h5\n",
            "11/11 [==============================] - 0s 48ms/step - loss: 0.1912\n",
            "Epoch 67/70\n",
            "10/11 [==========================>...] - ETA: 0s - loss: 0.2118\n",
            "Epoch 67: loss did not improve from 0.19117\n",
            "11/11 [==============================] - 0s 13ms/step - loss: 0.2174\n",
            "Epoch 68/70\n",
            " 9/11 [=======================>......] - ETA: 0s - loss: 0.2277\n",
            "Epoch 68: loss did not improve from 0.19117\n",
            "11/11 [==============================] - 0s 13ms/step - loss: 0.2149\n",
            "Epoch 69/70\n",
            "11/11 [==============================] - ETA: 0s - loss: 0.2172\n",
            "Epoch 69: loss did not improve from 0.19117\n",
            "11/11 [==============================] - 0s 13ms/step - loss: 0.2172\n",
            "Epoch 70/70\n",
            "10/11 [==========================>...] - ETA: 0s - loss: 0.1918\n",
            "Epoch 70: loss did not improve from 0.19117\n",
            "11/11 [==============================] - 0s 13ms/step - loss: 0.1968\n"
          ]
        },
        {
          "output_type": "execute_result",
          "data": {
            "text/plain": [
              "<keras.callbacks.History at 0x7fb9303380d0>"
            ]
          },
          "metadata": {},
          "execution_count": 15
        }
      ]
    },
    {
      "cell_type": "code",
      "source": [
        "from tensorflow.keras.models import load_model\n",
        "import numpy as np\n",
        "import pickle\n",
        "\n",
        "# Load the model and tokenizer\n",
        "model = load_model('next_words.h5')\n",
        "tokenizer = pickle.load(open('token.pkl', 'rb'))\n",
        "\n",
        "def Predict_Next_Words(model, tokenizer, text):\n",
        "\n",
        "  sequence = tokenizer.texts_to_sequences([text])\n",
        "  sequence = np.array(sequence)\n",
        "  preds = np.argmax(model.predict(sequence))\n",
        "  predicted_word = \"\"\n",
        "  \n",
        "  for key, value in tokenizer.word_index.items():\n",
        "      if value == preds:\n",
        "          predicted_word = key\n",
        "          break\n",
        "  \n",
        "  print(predicted_word)\n",
        "  return predicted_word"
      ],
      "metadata": {
        "id": "coqktBRkYiJ5"
      },
      "execution_count": 16,
      "outputs": []
    },
    {
      "cell_type": "code",
      "source": [
        "while(True):\n",
        "  text = input(\"Enter your line: \")\n",
        "  \n",
        "  if text == \"0\":\n",
        "      print(\"Execution completed.....\")\n",
        "      break\n",
        "  \n",
        "  else:\n",
        "      try:\n",
        "          text = text.split(\" \")\n",
        "          text = text[-3:]\n",
        "          print(text)\n",
        "        \n",
        "          Predict_Next_Words(model, tokenizer, text)\n",
        "          \n",
        "      except Exception as e:\n",
        "        print(\"Error occurred: \",e)\n",
        "        continue"
      ],
      "metadata": {
        "colab": {
          "base_uri": "https://localhost:8080/"
        },
        "id": "WsdN0mJFYiaS",
        "outputId": "27fe663d-8c7a-4e16-b659-eae429f23156"
      },
      "execution_count": 19,
      "outputs": [
        {
          "output_type": "stream",
          "name": "stdout",
          "text": [
            "Enter your line: কোনো কাজ না \n",
            "['কাজ', 'না', '']\n",
            "কারণ\n",
            "Enter your line:  আবদুর রহমান নামে\n",
            "['আবদুর', 'রহমান', 'নামে']\n",
            "একজন\n",
            "Enter your line: সে ক্ষেত্রে তাদের \n",
            "['ক্ষেত্রে', 'তাদের', '']\n",
            "হতে\n",
            "Enter your line: নানা পরিবর্তন আনা\n",
            "['নানা', 'পরিবর্তন', 'আনা']\n",
            "হয়।\n",
            "Enter your line: 0\n",
            "Execution completed.....\n"
          ]
        }
      ]
    },
    {
      "cell_type": "code",
      "source": [
        ""
      ],
      "metadata": {
        "id": "q_v08oerYik9"
      },
      "execution_count": null,
      "outputs": []
    },
    {
      "cell_type": "code",
      "source": [
        ""
      ],
      "metadata": {
        "id": "HPnrYtJ2Yiuy"
      },
      "execution_count": null,
      "outputs": []
    }
  ]
}